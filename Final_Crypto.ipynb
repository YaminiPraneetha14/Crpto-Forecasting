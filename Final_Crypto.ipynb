{
  "nbformat": 4,
  "nbformat_minor": 0,
  "metadata": {
    "colab": {
      "provenance": [],
      "collapsed_sections": [
        "IPABlR61ZYCk",
        "LmfT4noM_v0G",
        "RolTYf9NMgjW",
        "Y8b_uELzMpyL",
        "XwCc6poH9Fo9",
        "Ck10nQpomQjC",
        "k4nXUyNnSr9A",
        "uAwGNcMRZUIB",
        "hWEvl73lgHVX",
        "-SLU7c4L4K3-",
        "1nViePrE5U31"
      ]
    },
    "kernelspec": {
      "name": "python3",
      "display_name": "Python 3"
    },
    "language_info": {
      "name": "python"
    }
  },
  "cells": [
    {
      "cell_type": "code",
      "execution_count": null,
      "metadata": {
        "id": "cwVx8cdnBczN"
      },
      "outputs": [],
      "source": [
        "import numpy as np\n",
        "import pandas as pd\n",
        "import matplotlib.pyplot as plt\n",
        "import seaborn as sns\n",
        "import time\n",
        "from datetime import datetime\n",
        "from sklearn.linear_model import LinearRegression\n",
        "from sklearn.preprocessing import StandardScaler\n",
        "from sklearn.metrics import mean_squared_error\n",
        "import math\n",
        "from lightgbm import LGBMRegressor\n",
        "from sklearn.model_selection import RandomizedSearchCV, GridSearchCV\n",
        "from statsmodels.tsa.api import SimpleExpSmoothing\n",
        "from sklearn.metrics import mean_squared_error\n",
        "#from statsforecast.core import StatsForecast\n",
        "from xgboost import XGBRegressor\n",
        "import tensorflow as tf\n",
        "from tensorflow import keras\n",
        "from tensorflow.keras import layers\n",
        "from tensorflow.keras import regularizers\n",
        "from tensorflow.keras.callbacks import LearningRateScheduler\n",
        "from tensorflow.keras import regularizers\n",
        "from keras.models import Sequential\n",
        "from keras.layers import Activation, Dense, Dropout, LSTM,Flatten\n",
        "from keras.layers import Conv2D,MaxPooling2D"
      ]
    },
    {
      "cell_type": "code",
      "execution_count": null,
      "metadata": {
        "colab": {
          "base_uri": "https://localhost:8080/"
        },
        "id": "Ehy8wiDzThs0",
        "outputId": "821e4517-71e6-4578-a968-82b8937111c9"
      },
      "outputs": [
        {
          "output_type": "stream",
          "name": "stdout",
          "text": [
            "Drive already mounted at /content/drive; to attempt to forcibly remount, call drive.mount(\"/content/drive\", force_remount=True).\n"
          ]
        }
      ],
      "source": [
        "from google.colab import drive\n",
        "drive.mount('/content/drive')"
      ]
    },
    {
      "cell_type": "code",
      "execution_count": null,
      "metadata": {
        "id": "WuIhDrzbToTD"
      },
      "outputs": [],
      "source": [
        "df = pd.read_csv('/content/drive/MyDrive/ML/train.csv')"
      ]
    },
    {
      "cell_type": "code",
      "source": [
        "dft = pd.read_csv('/content/drive/MyDrive/ML/supplemental_train.csv')"
      ],
      "metadata": {
        "id": "cGna6T7663fd"
      },
      "execution_count": null,
      "outputs": []
    },
    {
      "cell_type": "code",
      "source": [
        "dft[\"datetime\"] = pd.to_datetime(dft[\"timestamp\"], unit=\"s\")\n",
        "dft.head()"
      ],
      "metadata": {
        "id": "q9OMMHys6_Cw",
        "colab": {
          "base_uri": "https://localhost:8080/",
          "height": 337
        },
        "outputId": "2359b44b-20bf-45b7-f4fa-26e22da2388c"
      },
      "execution_count": null,
      "outputs": [
        {
          "output_type": "execute_result",
          "data": {
            "text/plain": [
              "    timestamp  Asset_ID   Count          Open          High         Low  \\\n",
              "0  1632182460         3   561.0      2.079028      2.080605      2.0720   \n",
              "1  1632182460         2   169.0    541.006000    541.200000    539.7000   \n",
              "2  1632182460         0   400.0    363.737500    363.900000    363.0000   \n",
              "3  1632182460         1  1933.0  42986.143333  43001.000000  42898.0000   \n",
              "4  1632182460         4   348.0      0.208326      0.208400      0.2078   \n",
              "\n",
              "          Close        Volume          VWAP    Target            datetime  \n",
              "0      2.076458  2.804627e+05      2.075869  0.003085 2021-09-21 00:01:00  \n",
              "1    540.722000  1.889432e+02    540.716930 -0.000607 2021-09-21 00:01:00  \n",
              "2    363.654000  8.792685e+02    363.499554 -0.019375 2021-09-21 00:01:00  \n",
              "3  42947.065566  9.183861e+01  42942.976718 -0.000374 2021-09-21 00:01:00  \n",
              "4      0.208200  1.051337e+06      0.208077 -0.001233 2021-09-21 00:01:00  "
            ],
            "text/html": [
              "\n",
              "  <div id=\"df-6811d9cd-4004-4493-9d9d-c463d81e4e9c\">\n",
              "    <div class=\"colab-df-container\">\n",
              "      <div>\n",
              "<style scoped>\n",
              "    .dataframe tbody tr th:only-of-type {\n",
              "        vertical-align: middle;\n",
              "    }\n",
              "\n",
              "    .dataframe tbody tr th {\n",
              "        vertical-align: top;\n",
              "    }\n",
              "\n",
              "    .dataframe thead th {\n",
              "        text-align: right;\n",
              "    }\n",
              "</style>\n",
              "<table border=\"1\" class=\"dataframe\">\n",
              "  <thead>\n",
              "    <tr style=\"text-align: right;\">\n",
              "      <th></th>\n",
              "      <th>timestamp</th>\n",
              "      <th>Asset_ID</th>\n",
              "      <th>Count</th>\n",
              "      <th>Open</th>\n",
              "      <th>High</th>\n",
              "      <th>Low</th>\n",
              "      <th>Close</th>\n",
              "      <th>Volume</th>\n",
              "      <th>VWAP</th>\n",
              "      <th>Target</th>\n",
              "      <th>datetime</th>\n",
              "    </tr>\n",
              "  </thead>\n",
              "  <tbody>\n",
              "    <tr>\n",
              "      <th>0</th>\n",
              "      <td>1632182460</td>\n",
              "      <td>3</td>\n",
              "      <td>561.0</td>\n",
              "      <td>2.079028</td>\n",
              "      <td>2.080605</td>\n",
              "      <td>2.0720</td>\n",
              "      <td>2.076458</td>\n",
              "      <td>2.804627e+05</td>\n",
              "      <td>2.075869</td>\n",
              "      <td>0.003085</td>\n",
              "      <td>2021-09-21 00:01:00</td>\n",
              "    </tr>\n",
              "    <tr>\n",
              "      <th>1</th>\n",
              "      <td>1632182460</td>\n",
              "      <td>2</td>\n",
              "      <td>169.0</td>\n",
              "      <td>541.006000</td>\n",
              "      <td>541.200000</td>\n",
              "      <td>539.7000</td>\n",
              "      <td>540.722000</td>\n",
              "      <td>1.889432e+02</td>\n",
              "      <td>540.716930</td>\n",
              "      <td>-0.000607</td>\n",
              "      <td>2021-09-21 00:01:00</td>\n",
              "    </tr>\n",
              "    <tr>\n",
              "      <th>2</th>\n",
              "      <td>1632182460</td>\n",
              "      <td>0</td>\n",
              "      <td>400.0</td>\n",
              "      <td>363.737500</td>\n",
              "      <td>363.900000</td>\n",
              "      <td>363.0000</td>\n",
              "      <td>363.654000</td>\n",
              "      <td>8.792685e+02</td>\n",
              "      <td>363.499554</td>\n",
              "      <td>-0.019375</td>\n",
              "      <td>2021-09-21 00:01:00</td>\n",
              "    </tr>\n",
              "    <tr>\n",
              "      <th>3</th>\n",
              "      <td>1632182460</td>\n",
              "      <td>1</td>\n",
              "      <td>1933.0</td>\n",
              "      <td>42986.143333</td>\n",
              "      <td>43001.000000</td>\n",
              "      <td>42898.0000</td>\n",
              "      <td>42947.065566</td>\n",
              "      <td>9.183861e+01</td>\n",
              "      <td>42942.976718</td>\n",
              "      <td>-0.000374</td>\n",
              "      <td>2021-09-21 00:01:00</td>\n",
              "    </tr>\n",
              "    <tr>\n",
              "      <th>4</th>\n",
              "      <td>1632182460</td>\n",
              "      <td>4</td>\n",
              "      <td>348.0</td>\n",
              "      <td>0.208326</td>\n",
              "      <td>0.208400</td>\n",
              "      <td>0.2078</td>\n",
              "      <td>0.208200</td>\n",
              "      <td>1.051337e+06</td>\n",
              "      <td>0.208077</td>\n",
              "      <td>-0.001233</td>\n",
              "      <td>2021-09-21 00:01:00</td>\n",
              "    </tr>\n",
              "  </tbody>\n",
              "</table>\n",
              "</div>\n",
              "      <button class=\"colab-df-convert\" onclick=\"convertToInteractive('df-6811d9cd-4004-4493-9d9d-c463d81e4e9c')\"\n",
              "              title=\"Convert this dataframe to an interactive table.\"\n",
              "              style=\"display:none;\">\n",
              "        \n",
              "  <svg xmlns=\"http://www.w3.org/2000/svg\" height=\"24px\"viewBox=\"0 0 24 24\"\n",
              "       width=\"24px\">\n",
              "    <path d=\"M0 0h24v24H0V0z\" fill=\"none\"/>\n",
              "    <path d=\"M18.56 5.44l.94 2.06.94-2.06 2.06-.94-2.06-.94-.94-2.06-.94 2.06-2.06.94zm-11 1L8.5 8.5l.94-2.06 2.06-.94-2.06-.94L8.5 2.5l-.94 2.06-2.06.94zm10 10l.94 2.06.94-2.06 2.06-.94-2.06-.94-.94-2.06-.94 2.06-2.06.94z\"/><path d=\"M17.41 7.96l-1.37-1.37c-.4-.4-.92-.59-1.43-.59-.52 0-1.04.2-1.43.59L10.3 9.45l-7.72 7.72c-.78.78-.78 2.05 0 2.83L4 21.41c.39.39.9.59 1.41.59.51 0 1.02-.2 1.41-.59l7.78-7.78 2.81-2.81c.8-.78.8-2.07 0-2.86zM5.41 20L4 18.59l7.72-7.72 1.47 1.35L5.41 20z\"/>\n",
              "  </svg>\n",
              "      </button>\n",
              "      \n",
              "  <style>\n",
              "    .colab-df-container {\n",
              "      display:flex;\n",
              "      flex-wrap:wrap;\n",
              "      gap: 12px;\n",
              "    }\n",
              "\n",
              "    .colab-df-convert {\n",
              "      background-color: #E8F0FE;\n",
              "      border: none;\n",
              "      border-radius: 50%;\n",
              "      cursor: pointer;\n",
              "      display: none;\n",
              "      fill: #1967D2;\n",
              "      height: 32px;\n",
              "      padding: 0 0 0 0;\n",
              "      width: 32px;\n",
              "    }\n",
              "\n",
              "    .colab-df-convert:hover {\n",
              "      background-color: #E2EBFA;\n",
              "      box-shadow: 0px 1px 2px rgba(60, 64, 67, 0.3), 0px 1px 3px 1px rgba(60, 64, 67, 0.15);\n",
              "      fill: #174EA6;\n",
              "    }\n",
              "\n",
              "    [theme=dark] .colab-df-convert {\n",
              "      background-color: #3B4455;\n",
              "      fill: #D2E3FC;\n",
              "    }\n",
              "\n",
              "    [theme=dark] .colab-df-convert:hover {\n",
              "      background-color: #434B5C;\n",
              "      box-shadow: 0px 1px 3px 1px rgba(0, 0, 0, 0.15);\n",
              "      filter: drop-shadow(0px 1px 2px rgba(0, 0, 0, 0.3));\n",
              "      fill: #FFFFFF;\n",
              "    }\n",
              "  </style>\n",
              "\n",
              "      <script>\n",
              "        const buttonEl =\n",
              "          document.querySelector('#df-6811d9cd-4004-4493-9d9d-c463d81e4e9c button.colab-df-convert');\n",
              "        buttonEl.style.display =\n",
              "          google.colab.kernel.accessAllowed ? 'block' : 'none';\n",
              "\n",
              "        async function convertToInteractive(key) {\n",
              "          const element = document.querySelector('#df-6811d9cd-4004-4493-9d9d-c463d81e4e9c');\n",
              "          const dataTable =\n",
              "            await google.colab.kernel.invokeFunction('convertToInteractive',\n",
              "                                                     [key], {});\n",
              "          if (!dataTable) return;\n",
              "\n",
              "          const docLinkHtml = 'Like what you see? Visit the ' +\n",
              "            '<a target=\"_blank\" href=https://colab.research.google.com/notebooks/data_table.ipynb>data table notebook</a>'\n",
              "            + ' to learn more about interactive tables.';\n",
              "          element.innerHTML = '';\n",
              "          dataTable['output_type'] = 'display_data';\n",
              "          await google.colab.output.renderOutput(dataTable, element);\n",
              "          const docLink = document.createElement('div');\n",
              "          docLink.innerHTML = docLinkHtml;\n",
              "          element.appendChild(docLink);\n",
              "        }\n",
              "      </script>\n",
              "    </div>\n",
              "  </div>\n",
              "  "
            ]
          },
          "metadata": {},
          "execution_count": 5
        }
      ]
    },
    {
      "cell_type": "code",
      "source": [
        "dft.groupby(['Asset_ID'])['datetime'].max()\n",
        "#supplemental train data is from 2021-09-21 to 2022-01-24"
      ],
      "metadata": {
        "id": "ETPByu4j7HNW",
        "colab": {
          "base_uri": "https://localhost:8080/"
        },
        "outputId": "76ca6e5f-9902-4c55-b0e9-e89a11803b9a"
      },
      "execution_count": null,
      "outputs": [
        {
          "output_type": "execute_result",
          "data": {
            "text/plain": [
              "Asset_ID\n",
              "0    2022-01-24\n",
              "1    2022-01-24\n",
              "2    2022-01-24\n",
              "3    2022-01-24\n",
              "4    2022-01-24\n",
              "5    2022-01-24\n",
              "6    2022-01-24\n",
              "7    2022-01-24\n",
              "8    2022-01-24\n",
              "9    2022-01-24\n",
              "10   2022-01-24\n",
              "11   2022-01-24\n",
              "12   2022-01-24\n",
              "13   2022-01-24\n",
              "Name: datetime, dtype: datetime64[ns]"
            ]
          },
          "metadata": {},
          "execution_count": 6
        }
      ]
    },
    {
      "cell_type": "code",
      "source": [
        "dft.isna().sum()*100/len(dft)\n",
        "#Only 0.1% missing values in target data"
      ],
      "metadata": {
        "id": "nwt_aJ3ZTtY3",
        "colab": {
          "base_uri": "https://localhost:8080/"
        },
        "outputId": "964b3f4f-4cbb-4083-a208-cfbc9330d3ab"
      },
      "execution_count": null,
      "outputs": [
        {
          "output_type": "execute_result",
          "data": {
            "text/plain": [
              "timestamp    0.000000\n",
              "Asset_ID     0.000000\n",
              "Count        0.000000\n",
              "Open         0.000000\n",
              "High         0.000000\n",
              "Low          0.000000\n",
              "Close        0.000000\n",
              "Volume       0.000000\n",
              "VWAP         0.000000\n",
              "Target       0.116071\n",
              "datetime     0.000000\n",
              "dtype: float64"
            ]
          },
          "metadata": {},
          "execution_count": 7
        }
      ]
    },
    {
      "cell_type": "code",
      "source": [
        "df[\"datetime\"] = pd.to_datetime(df[\"timestamp\"], unit=\"s\")"
      ],
      "metadata": {
        "id": "MigQa7yU490b"
      },
      "execution_count": null,
      "outputs": []
    },
    {
      "cell_type": "code",
      "source": [
        "df.head()"
      ],
      "metadata": {
        "colab": {
          "base_uri": "https://localhost:8080/",
          "height": 206
        },
        "id": "awubL5_cFlt9",
        "outputId": "f616bcc1-6359-42f0-f10b-8e232a2a814f"
      },
      "execution_count": null,
      "outputs": [
        {
          "output_type": "execute_result",
          "data": {
            "text/plain": [
              "    timestamp  Asset_ID  Count        Open        High         Low  \\\n",
              "0  1514764860         2   40.0   2376.5800   2399.5000   2357.1400   \n",
              "1  1514764860         0    5.0      8.5300      8.5300      8.5300   \n",
              "2  1514764860         1  229.0  13835.1940  14013.8000  13666.1100   \n",
              "3  1514764860         5   32.0      7.6596      7.6596      7.6567   \n",
              "4  1514764860         7    5.0     25.9200     25.9200     25.8740   \n",
              "\n",
              "        Close       Volume          VWAP    Target            datetime  \n",
              "0   2374.5900    19.233005   2373.116392 -0.004218 2018-01-01 00:01:00  \n",
              "1      8.5300    78.380000      8.530000 -0.014399 2018-01-01 00:01:00  \n",
              "2  13850.1760    31.550062  13827.062093 -0.014643 2018-01-01 00:01:00  \n",
              "3      7.6576  6626.713370      7.657713 -0.013922 2018-01-01 00:01:00  \n",
              "4     25.8770   121.087310     25.891363 -0.008264 2018-01-01 00:01:00  "
            ],
            "text/html": [
              "\n",
              "  <div id=\"df-f232472f-6bf6-400f-93cd-5cdf9d933c45\">\n",
              "    <div class=\"colab-df-container\">\n",
              "      <div>\n",
              "<style scoped>\n",
              "    .dataframe tbody tr th:only-of-type {\n",
              "        vertical-align: middle;\n",
              "    }\n",
              "\n",
              "    .dataframe tbody tr th {\n",
              "        vertical-align: top;\n",
              "    }\n",
              "\n",
              "    .dataframe thead th {\n",
              "        text-align: right;\n",
              "    }\n",
              "</style>\n",
              "<table border=\"1\" class=\"dataframe\">\n",
              "  <thead>\n",
              "    <tr style=\"text-align: right;\">\n",
              "      <th></th>\n",
              "      <th>timestamp</th>\n",
              "      <th>Asset_ID</th>\n",
              "      <th>Count</th>\n",
              "      <th>Open</th>\n",
              "      <th>High</th>\n",
              "      <th>Low</th>\n",
              "      <th>Close</th>\n",
              "      <th>Volume</th>\n",
              "      <th>VWAP</th>\n",
              "      <th>Target</th>\n",
              "      <th>datetime</th>\n",
              "    </tr>\n",
              "  </thead>\n",
              "  <tbody>\n",
              "    <tr>\n",
              "      <th>0</th>\n",
              "      <td>1514764860</td>\n",
              "      <td>2</td>\n",
              "      <td>40.0</td>\n",
              "      <td>2376.5800</td>\n",
              "      <td>2399.5000</td>\n",
              "      <td>2357.1400</td>\n",
              "      <td>2374.5900</td>\n",
              "      <td>19.233005</td>\n",
              "      <td>2373.116392</td>\n",
              "      <td>-0.004218</td>\n",
              "      <td>2018-01-01 00:01:00</td>\n",
              "    </tr>\n",
              "    <tr>\n",
              "      <th>1</th>\n",
              "      <td>1514764860</td>\n",
              "      <td>0</td>\n",
              "      <td>5.0</td>\n",
              "      <td>8.5300</td>\n",
              "      <td>8.5300</td>\n",
              "      <td>8.5300</td>\n",
              "      <td>8.5300</td>\n",
              "      <td>78.380000</td>\n",
              "      <td>8.530000</td>\n",
              "      <td>-0.014399</td>\n",
              "      <td>2018-01-01 00:01:00</td>\n",
              "    </tr>\n",
              "    <tr>\n",
              "      <th>2</th>\n",
              "      <td>1514764860</td>\n",
              "      <td>1</td>\n",
              "      <td>229.0</td>\n",
              "      <td>13835.1940</td>\n",
              "      <td>14013.8000</td>\n",
              "      <td>13666.1100</td>\n",
              "      <td>13850.1760</td>\n",
              "      <td>31.550062</td>\n",
              "      <td>13827.062093</td>\n",
              "      <td>-0.014643</td>\n",
              "      <td>2018-01-01 00:01:00</td>\n",
              "    </tr>\n",
              "    <tr>\n",
              "      <th>3</th>\n",
              "      <td>1514764860</td>\n",
              "      <td>5</td>\n",
              "      <td>32.0</td>\n",
              "      <td>7.6596</td>\n",
              "      <td>7.6596</td>\n",
              "      <td>7.6567</td>\n",
              "      <td>7.6576</td>\n",
              "      <td>6626.713370</td>\n",
              "      <td>7.657713</td>\n",
              "      <td>-0.013922</td>\n",
              "      <td>2018-01-01 00:01:00</td>\n",
              "    </tr>\n",
              "    <tr>\n",
              "      <th>4</th>\n",
              "      <td>1514764860</td>\n",
              "      <td>7</td>\n",
              "      <td>5.0</td>\n",
              "      <td>25.9200</td>\n",
              "      <td>25.9200</td>\n",
              "      <td>25.8740</td>\n",
              "      <td>25.8770</td>\n",
              "      <td>121.087310</td>\n",
              "      <td>25.891363</td>\n",
              "      <td>-0.008264</td>\n",
              "      <td>2018-01-01 00:01:00</td>\n",
              "    </tr>\n",
              "  </tbody>\n",
              "</table>\n",
              "</div>\n",
              "      <button class=\"colab-df-convert\" onclick=\"convertToInteractive('df-f232472f-6bf6-400f-93cd-5cdf9d933c45')\"\n",
              "              title=\"Convert this dataframe to an interactive table.\"\n",
              "              style=\"display:none;\">\n",
              "        \n",
              "  <svg xmlns=\"http://www.w3.org/2000/svg\" height=\"24px\"viewBox=\"0 0 24 24\"\n",
              "       width=\"24px\">\n",
              "    <path d=\"M0 0h24v24H0V0z\" fill=\"none\"/>\n",
              "    <path d=\"M18.56 5.44l.94 2.06.94-2.06 2.06-.94-2.06-.94-.94-2.06-.94 2.06-2.06.94zm-11 1L8.5 8.5l.94-2.06 2.06-.94-2.06-.94L8.5 2.5l-.94 2.06-2.06.94zm10 10l.94 2.06.94-2.06 2.06-.94-2.06-.94-.94-2.06-.94 2.06-2.06.94z\"/><path d=\"M17.41 7.96l-1.37-1.37c-.4-.4-.92-.59-1.43-.59-.52 0-1.04.2-1.43.59L10.3 9.45l-7.72 7.72c-.78.78-.78 2.05 0 2.83L4 21.41c.39.39.9.59 1.41.59.51 0 1.02-.2 1.41-.59l7.78-7.78 2.81-2.81c.8-.78.8-2.07 0-2.86zM5.41 20L4 18.59l7.72-7.72 1.47 1.35L5.41 20z\"/>\n",
              "  </svg>\n",
              "      </button>\n",
              "      \n",
              "  <style>\n",
              "    .colab-df-container {\n",
              "      display:flex;\n",
              "      flex-wrap:wrap;\n",
              "      gap: 12px;\n",
              "    }\n",
              "\n",
              "    .colab-df-convert {\n",
              "      background-color: #E8F0FE;\n",
              "      border: none;\n",
              "      border-radius: 50%;\n",
              "      cursor: pointer;\n",
              "      display: none;\n",
              "      fill: #1967D2;\n",
              "      height: 32px;\n",
              "      padding: 0 0 0 0;\n",
              "      width: 32px;\n",
              "    }\n",
              "\n",
              "    .colab-df-convert:hover {\n",
              "      background-color: #E2EBFA;\n",
              "      box-shadow: 0px 1px 2px rgba(60, 64, 67, 0.3), 0px 1px 3px 1px rgba(60, 64, 67, 0.15);\n",
              "      fill: #174EA6;\n",
              "    }\n",
              "\n",
              "    [theme=dark] .colab-df-convert {\n",
              "      background-color: #3B4455;\n",
              "      fill: #D2E3FC;\n",
              "    }\n",
              "\n",
              "    [theme=dark] .colab-df-convert:hover {\n",
              "      background-color: #434B5C;\n",
              "      box-shadow: 0px 1px 3px 1px rgba(0, 0, 0, 0.15);\n",
              "      filter: drop-shadow(0px 1px 2px rgba(0, 0, 0, 0.3));\n",
              "      fill: #FFFFFF;\n",
              "    }\n",
              "  </style>\n",
              "\n",
              "      <script>\n",
              "        const buttonEl =\n",
              "          document.querySelector('#df-f232472f-6bf6-400f-93cd-5cdf9d933c45 button.colab-df-convert');\n",
              "        buttonEl.style.display =\n",
              "          google.colab.kernel.accessAllowed ? 'block' : 'none';\n",
              "\n",
              "        async function convertToInteractive(key) {\n",
              "          const element = document.querySelector('#df-f232472f-6bf6-400f-93cd-5cdf9d933c45');\n",
              "          const dataTable =\n",
              "            await google.colab.kernel.invokeFunction('convertToInteractive',\n",
              "                                                     [key], {});\n",
              "          if (!dataTable) return;\n",
              "\n",
              "          const docLinkHtml = 'Like what you see? Visit the ' +\n",
              "            '<a target=\"_blank\" href=https://colab.research.google.com/notebooks/data_table.ipynb>data table notebook</a>'\n",
              "            + ' to learn more about interactive tables.';\n",
              "          element.innerHTML = '';\n",
              "          dataTable['output_type'] = 'display_data';\n",
              "          await google.colab.output.renderOutput(dataTable, element);\n",
              "          const docLink = document.createElement('div');\n",
              "          docLink.innerHTML = docLinkHtml;\n",
              "          element.appendChild(docLink);\n",
              "        }\n",
              "      </script>\n",
              "    </div>\n",
              "  </div>\n",
              "  "
            ]
          },
          "metadata": {},
          "execution_count": 9
        }
      ]
    },
    {
      "cell_type": "code",
      "source": [
        "df.groupby(['Asset_ID'])['datetime'].min()"
      ],
      "metadata": {
        "id": "nN3AYLXO5Iaf",
        "colab": {
          "base_uri": "https://localhost:8080/"
        },
        "outputId": "ec7f5b70-2f8b-4354-88b3-3eccdfb774c2"
      },
      "execution_count": null,
      "outputs": [
        {
          "output_type": "execute_result",
          "data": {
            "text/plain": [
              "Asset_ID\n",
              "0    2018-01-01 00:01:00\n",
              "1    2018-01-01 00:01:00\n",
              "2    2018-01-01 00:01:00\n",
              "3    2018-04-17 09:11:00\n",
              "4    2019-04-12 14:34:00\n",
              "5    2018-01-01 00:01:00\n",
              "6    2018-01-01 00:01:00\n",
              "7    2018-01-01 00:01:00\n",
              "8    2018-05-09 08:07:00\n",
              "9    2018-01-01 00:01:00\n",
              "10   2018-05-10 15:21:00\n",
              "11   2018-01-01 00:01:00\n",
              "12   2018-02-16 23:53:00\n",
              "13   2018-02-06 21:37:00\n",
              "Name: datetime, dtype: datetime64[ns]"
            ]
          },
          "metadata": {},
          "execution_count": 8
        }
      ]
    },
    {
      "cell_type": "code",
      "source": [
        "df.groupby(['Asset_ID'])['datetime'].max()"
      ],
      "metadata": {
        "colab": {
          "base_uri": "https://localhost:8080/"
        },
        "id": "Zhj5dKdR6x8a",
        "outputId": "d39c44a6-2872-4cff-d748-14c12964c463"
      },
      "execution_count": null,
      "outputs": [
        {
          "output_type": "execute_result",
          "data": {
            "text/plain": [
              "Asset_ID\n",
              "0    2022-01-24\n",
              "1    2022-01-24\n",
              "2    2022-01-24\n",
              "3    2022-01-24\n",
              "4    2022-01-24\n",
              "5    2022-01-24\n",
              "6    2022-01-24\n",
              "7    2022-01-24\n",
              "8    2022-01-24\n",
              "9    2022-01-24\n",
              "10   2022-01-24\n",
              "11   2022-01-24\n",
              "12   2022-01-24\n",
              "13   2022-01-24\n",
              "Name: datetime, dtype: datetime64[ns]"
            ]
          },
          "metadata": {},
          "execution_count": 8
        }
      ]
    },
    {
      "cell_type": "code",
      "source": [
        "df.isna().sum()*100/len(df)\n",
        "#Only 3%missing values"
      ],
      "metadata": {
        "colab": {
          "base_uri": "https://localhost:8080/"
        },
        "id": "f99jPvgEUK9I",
        "outputId": "50d0c194-d782-405d-c5c6-557d29598af5"
      },
      "execution_count": null,
      "outputs": [
        {
          "output_type": "execute_result",
          "data": {
            "text/plain": [
              "timestamp    0.000000\n",
              "Asset_ID     0.000000\n",
              "Count        0.000000\n",
              "Open         0.000000\n",
              "High         0.000000\n",
              "Low          0.000000\n",
              "Close        0.000000\n",
              "Volume       0.000000\n",
              "VWAP         0.000037\n",
              "Target       3.095862\n",
              "datetime     0.000000\n",
              "dtype: float64"
            ]
          },
          "metadata": {},
          "execution_count": 9
        }
      ]
    },
    {
      "cell_type": "code",
      "source": [
        "(df[df['Asset_ID']==0]['Target']).plot()"
      ],
      "metadata": {
        "colab": {
          "base_uri": "https://localhost:8080/",
          "height": 296
        },
        "id": "CY5l_2eRU0fz",
        "outputId": "604b768a-9de3-433b-cd40-f2c6f963e955"
      },
      "execution_count": null,
      "outputs": [
        {
          "output_type": "execute_result",
          "data": {
            "text/plain": [
              "<matplotlib.axes._subplots.AxesSubplot at 0x7f1372d37d00>"
            ]
          },
          "metadata": {},
          "execution_count": 16
        },
        {
          "output_type": "display_data",
          "data": {
            "text/plain": [
              "<Figure size 432x288 with 1 Axes>"
            ],
            "image/png": "[encoded data removed]"
          },
          "metadata": {
            "needs_background": "light"
          }
        }
      ]
    },
    {
      "cell_type": "code",
      "source": [
        "df = pd.concat([df,dft])\n",
        "df.head()"
      ],
      "metadata": {
        "id": "NExzdXc8-RYo",
        "colab": {
          "base_uri": "https://localhost:8080/",
          "height": 206
        },
        "outputId": "611d0c39-4d5a-4eda-fb55-87b12ba13ba6"
      },
      "execution_count": null,
      "outputs": [
        {
          "output_type": "execute_result",
          "data": {
            "text/plain": [
              "    timestamp  Asset_ID  Count        Open        High         Low  \\\n",
              "0  1514764860         2   40.0   2376.5800   2399.5000   2357.1400   \n",
              "1  1514764860         0    5.0      8.5300      8.5300      8.5300   \n",
              "2  1514764860         1  229.0  13835.1940  14013.8000  13666.1100   \n",
              "3  1514764860         5   32.0      7.6596      7.6596      7.6567   \n",
              "4  1514764860         7    5.0     25.9200     25.9200     25.8740   \n",
              "\n",
              "        Close       Volume          VWAP    Target            datetime  \n",
              "0   2374.5900    19.233005   2373.116392 -0.004218 2018-01-01 00:01:00  \n",
              "1      8.5300    78.380000      8.530000 -0.014399 2018-01-01 00:01:00  \n",
              "2  13850.1760    31.550062  13827.062093 -0.014643 2018-01-01 00:01:00  \n",
              "3      7.6576  6626.713370      7.657713 -0.013922 2018-01-01 00:01:00  \n",
              "4     25.8770   121.087310     25.891363 -0.008264 2018-01-01 00:01:00  "
            ],
            "text/html": [
              "\n",
              "  <div id=\"df-cde33398-a960-43cc-a10b-d2013f980e82\">\n",
              "    <div class=\"colab-df-container\">\n",
              "      <div>\n",
              "<style scoped>\n",
              "    .dataframe tbody tr th:only-of-type {\n",
              "        vertical-align: middle;\n",
              "    }\n",
              "\n",
              "    .dataframe tbody tr th {\n",
              "        vertical-align: top;\n",
              "    }\n",
              "\n",
              "    .dataframe thead th {\n",
              "        text-align: right;\n",
              "    }\n",
              "</style>\n",
              "<table border=\"1\" class=\"dataframe\">\n",
              "  <thead>\n",
              "    <tr style=\"text-align: right;\">\n",
              "      <th></th>\n",
              "      <th>timestamp</th>\n",
              "      <th>Asset_ID</th>\n",
              "      <th>Count</th>\n",
              "      <th>Open</th>\n",
              "      <th>High</th>\n",
              "      <th>Low</th>\n",
              "      <th>Close</th>\n",
              "      <th>Volume</th>\n",
              "      <th>VWAP</th>\n",
              "      <th>Target</th>\n",
              "      <th>datetime</th>\n",
              "    </tr>\n",
              "  </thead>\n",
              "  <tbody>\n",
              "    <tr>\n",
              "      <th>0</th>\n",
              "      <td>1514764860</td>\n",
              "      <td>2</td>\n",
              "      <td>40.0</td>\n",
              "      <td>2376.5800</td>\n",
              "      <td>2399.5000</td>\n",
              "      <td>2357.1400</td>\n",
              "      <td>2374.5900</td>\n",
              "      <td>19.233005</td>\n",
              "      <td>2373.116392</td>\n",
              "      <td>-0.004218</td>\n",
              "      <td>2018-01-01 00:01:00</td>\n",
              "    </tr>\n",
              "    <tr>\n",
              "      <th>1</th>\n",
              "      <td>1514764860</td>\n",
              "      <td>0</td>\n",
              "      <td>5.0</td>\n",
              "      <td>8.5300</td>\n",
              "      <td>8.5300</td>\n",
              "      <td>8.5300</td>\n",
              "      <td>8.5300</td>\n",
              "      <td>78.380000</td>\n",
              "      <td>8.530000</td>\n",
              "      <td>-0.014399</td>\n",
              "      <td>2018-01-01 00:01:00</td>\n",
              "    </tr>\n",
              "    <tr>\n",
              "      <th>2</th>\n",
              "      <td>1514764860</td>\n",
              "      <td>1</td>\n",
              "      <td>229.0</td>\n",
              "      <td>13835.1940</td>\n",
              "      <td>14013.8000</td>\n",
              "      <td>13666.1100</td>\n",
              "      <td>13850.1760</td>\n",
              "      <td>31.550062</td>\n",
              "      <td>13827.062093</td>\n",
              "      <td>-0.014643</td>\n",
              "      <td>2018-01-01 00:01:00</td>\n",
              "    </tr>\n",
              "    <tr>\n",
              "      <th>3</th>\n",
              "      <td>1514764860</td>\n",
              "      <td>5</td>\n",
              "      <td>32.0</td>\n",
              "      <td>7.6596</td>\n",
              "      <td>7.6596</td>\n",
              "      <td>7.6567</td>\n",
              "      <td>7.6576</td>\n",
              "      <td>6626.713370</td>\n",
              "      <td>7.657713</td>\n",
              "      <td>-0.013922</td>\n",
              "      <td>2018-01-01 00:01:00</td>\n",
              "    </tr>\n",
              "    <tr>\n",
              "      <th>4</th>\n",
              "      <td>1514764860</td>\n",
              "      <td>7</td>\n",
              "      <td>5.0</td>\n",
              "      <td>25.9200</td>\n",
              "      <td>25.9200</td>\n",
              "      <td>25.8740</td>\n",
              "      <td>25.8770</td>\n",
              "      <td>121.087310</td>\n",
              "      <td>25.891363</td>\n",
              "      <td>-0.008264</td>\n",
              "      <td>2018-01-01 00:01:00</td>\n",
              "    </tr>\n",
              "  </tbody>\n",
              "</table>\n",
              "</div>\n",
              "      <button class=\"colab-df-convert\" onclick=\"convertToInteractive('df-cde33398-a960-43cc-a10b-d2013f980e82')\"\n",
              "              title=\"Convert this dataframe to an interactive table.\"\n",
              "              style=\"display:none;\">\n",
              "        \n",
              "  <svg xmlns=\"http://www.w3.org/2000/svg\" height=\"24px\"viewBox=\"0 0 24 24\"\n",
              "       width=\"24px\">\n",
              "    <path d=\"M0 0h24v24H0V0z\" fill=\"none\"/>\n",
              "    <path d=\"M18.56 5.44l.94 2.06.94-2.06 2.06-.94-2.06-.94-.94-2.06-.94 2.06-2.06.94zm-11 1L8.5 8.5l.94-2.06 2.06-.94-2.06-.94L8.5 2.5l-.94 2.06-2.06.94zm10 10l.94 2.06.94-2.06 2.06-.94-2.06-.94-.94-2.06-.94 2.06-2.06.94z\"/><path d=\"M17.41 7.96l-1.37-1.37c-.4-.4-.92-.59-1.43-.59-.52 0-1.04.2-1.43.59L10.3 9.45l-7.72 7.72c-.78.78-.78 2.05 0 2.83L4 21.41c.39.39.9.59 1.41.59.51 0 1.02-.2 1.41-.59l7.78-7.78 2.81-2.81c.8-.78.8-2.07 0-2.86zM5.41 20L4 18.59l7.72-7.72 1.47 1.35L5.41 20z\"/>\n",
              "  </svg>\n",
              "      </button>\n",
              "      \n",
              "  <style>\n",
              "    .colab-df-container {\n",
              "      display:flex;\n",
              "      flex-wrap:wrap;\n",
              "      gap: 12px;\n",
              "    }\n",
              "\n",
              "    .colab-df-convert {\n",
              "      background-color: #E8F0FE;\n",
              "      border: none;\n",
              "      border-radius: 50%;\n",
              "      cursor: pointer;\n",
              "      display: none;\n",
              "      fill: #1967D2;\n",
              "      height: 32px;\n",
              "      padding: 0 0 0 0;\n",
              "      width: 32px;\n",
              "    }\n",
              "\n",
              "    .colab-df-convert:hover {\n",
              "      background-color: #E2EBFA;\n",
              "      box-shadow: 0px 1px 2px rgba(60, 64, 67, 0.3), 0px 1px 3px 1px rgba(60, 64, 67, 0.15);\n",
              "      fill: #174EA6;\n",
              "    }\n",
              "\n",
              "    [theme=dark] .colab-df-convert {\n",
              "      background-color: #3B4455;\n",
              "      fill: #D2E3FC;\n",
              "    }\n",
              "\n",
              "    [theme=dark] .colab-df-convert:hover {\n",
              "      background-color: #434B5C;\n",
              "      box-shadow: 0px 1px 3px 1px rgba(0, 0, 0, 0.15);\n",
              "      filter: drop-shadow(0px 1px 2px rgba(0, 0, 0, 0.3));\n",
              "      fill: #FFFFFF;\n",
              "    }\n",
              "  </style>\n",
              "\n",
              "      <script>\n",
              "        const buttonEl =\n",
              "          document.querySelector('#df-cde33398-a960-43cc-a10b-d2013f980e82 button.colab-df-convert');\n",
              "        buttonEl.style.display =\n",
              "          google.colab.kernel.accessAllowed ? 'block' : 'none';\n",
              "\n",
              "        async function convertToInteractive(key) {\n",
              "          const element = document.querySelector('#df-cde33398-a960-43cc-a10b-d2013f980e82');\n",
              "          const dataTable =\n",
              "            await google.colab.kernel.invokeFunction('convertToInteractive',\n",
              "                                                     [key], {});\n",
              "          if (!dataTable) return;\n",
              "\n",
              "          const docLinkHtml = 'Like what you see? Visit the ' +\n",
              "            '<a target=\"_blank\" href=https://colab.research.google.com/notebooks/data_table.ipynb>data table notebook</a>'\n",
              "            + ' to learn more about interactive tables.';\n",
              "          element.innerHTML = '';\n",
              "          dataTable['output_type'] = 'display_data';\n",
              "          await google.colab.output.renderOutput(dataTable, element);\n",
              "          const docLink = document.createElement('div');\n",
              "          docLink.innerHTML = docLinkHtml;\n",
              "          element.appendChild(docLink);\n",
              "        }\n",
              "      </script>\n",
              "    </div>\n",
              "  </div>\n",
              "  "
            ]
          },
          "metadata": {},
          "execution_count": 7
        }
      ]
    },
    {
      "cell_type": "code",
      "source": [
        "btc = df[df['Asset_ID']==1].set_index(\"timestamp\") #Bitcoin\n",
        "eth = df[df['Asset_ID']==6].set_index(\"timestamp\")#Ethereum\n",
        "#car = df[df['Asset_ID']==3].set_index(\"timestamp\") # Cardano\n",
        "#binc = df[df['Asset_ID']==0].set_index(\"timestamp\") # Binance Coin\n",
        "#doge = df[df['Asset_ID']==4].set_index(\"timestamp\") #Dogecoin\n",
        "#btcc = df[df['Asset_ID']==2].set_index(\"timestamp\") #Bitcoin Cash\n",
        "#lit = df[df['Asset_ID']==9].set_index(\"timestamp\") #Litecoin\n",
        "#ethcl = df[df['Asset_ID']==7].set_index(\"timestamp\") #Ethereum CLassic\n",
        "#stl = df[df['Asset_ID']==12].set_index(\"timestamp\") #Stellar\n",
        "#tro = df[df['Asset_ID']==13].set_index(\"timestamp\") #TRON\n",
        "#mon = df[df['Asset_ID']==11].set_index(\"timestamp\") #Monero\n",
        "#eos = df[df['Asset_ID']==5].set_index(\"timestamp\") #EOS.IO\n",
        "#iot = df[df['Asset_ID']==8].set_index(\"timestamp\") #IOTA\n",
        "#mak = df[df['Asset_ID']==10].set_index(\"timestamp\") #Maker"
      ],
      "metadata": {
        "id": "pP2wK1ihGto9"
      },
      "execution_count": null,
      "outputs": []
    },
    {
      "cell_type": "markdown",
      "source": [
        "# Missing Values Chceking"
      ],
      "metadata": {
        "id": "IPABlR61ZYCk"
      }
    },
    {
      "cell_type": "code",
      "source": [
        "print((btc.index[1:]-btc.index[:-1]).value_counts().head())\n",
        "print((eth.index[1:]-eth.index[:-1]).value_counts().head())\n",
        "print((car.index[1:]-car.index[:-1]).value_counts().head())\n",
        "print((binc.index[1:]-binc.index[:-1]).value_counts().head())\n",
        "print((doge.index[1:]-doge.index[:-1]).value_counts().head())\n",
        "print((btcc.index[1:]-btcc.index[:-1]).value_counts().head())\n",
        "print((lit.index[1:]-lit.index[:-1]).value_counts().head())\n",
        "print((ethcl.index[1:]-ethcl.index[:-1]).value_counts().head())\n",
        "print((stl.index[1:]-stl.index[:-1]).value_counts().head())\n",
        "print((tro.index[1:]-tro.index[:-1]).value_counts().head())\n",
        "print((mon.index[1:]-mon.index[:-1]).value_counts().head())\n",
        "print((eos.index[1:]-eos.index[:-1]).value_counts().head())\n",
        "print((iot.index[1:]-iot.index[:-1]).value_counts().head())\n",
        "print((mak.index[1:]-mak.index[:-1]).value_counts().head())"
      ],
      "metadata": {
        "colab": {
          "base_uri": "https://localhost:8080/"
        },
        "id": "a_CQQ65QK-iN",
        "outputId": "83a14bd0-04a0-449c-eacc-91b7da737297"
      },
      "execution_count": null,
      "outputs": [
        {
          "output_type": "stream",
          "name": "stdout",
          "text": [
            "60     1956136\n",
            "120         78\n",
            "180         12\n",
            "240         11\n",
            "420          9\n",
            "Name: timestamp, dtype: int64\n",
            "60     1956043\n",
            "120        100\n",
            "180         23\n",
            "300          5\n",
            "540          4\n",
            "Name: timestamp, dtype: int64\n",
            "60     1782506\n",
            "120       7848\n",
            "180       1090\n",
            "240        270\n",
            "300         79\n",
            "Name: timestamp, dtype: int64\n",
            "60     1936018\n",
            "120       5774\n",
            "180        510\n",
            "240        117\n",
            "300         50\n",
            "Name: timestamp, dtype: int64\n",
            "60     1080213\n",
            "120      51442\n",
            "180      13708\n",
            "240       5575\n",
            "300       2627\n",
            "Name: timestamp, dtype: int64\n",
            "60     1951034\n",
            "120       2176\n",
            "180        196\n",
            "240         45\n",
            "300         29\n",
            "Name: timestamp, dtype: int64\n",
            "60     1955738\n",
            "120        199\n",
            "180         33\n",
            "240         14\n",
            "300          8\n",
            "Name: timestamp, dtype: int64\n",
            "60     1946419\n",
            "120       4229\n",
            "180        319\n",
            "240         75\n",
            "300         27\n",
            "Name: timestamp, dtype: int64\n",
            "60     1740978\n",
            "120      18156\n",
            "180       6734\n",
            "240       3830\n",
            "300       2805\n",
            "Name: timestamp, dtype: int64\n",
            "60     1862334\n",
            "120       6204\n",
            "180       2576\n",
            "240       1301\n",
            "300        721\n",
            "Name: timestamp, dtype: int64\n",
            "60     1569423\n",
            "120      80605\n",
            "180      25266\n",
            "240      10953\n",
            "300       5691\n",
            "Name: timestamp, dtype: int64\n",
            "60     1953951\n",
            "120       1005\n",
            "180        108\n",
            "240         36\n",
            "300         10\n",
            "Name: timestamp, dtype: int64\n",
            "60     1484329\n",
            "120      70201\n",
            "180      21250\n",
            "240       8405\n",
            "300       3815\n",
            "Name: timestamp, dtype: int64\n",
            "60     643999\n",
            "120     10868\n",
            "180      3764\n",
            "240      1595\n",
            "300       804\n",
            "Name: timestamp, dtype: int64\n"
          ]
        }
      ]
    },
    {
      "cell_type": "markdown",
      "source": [
        "Has missing values in time periods for all cryptos"
      ],
      "metadata": {
        "id": "rcMFeQecZO3r"
      }
    },
    {
      "cell_type": "markdown",
      "source": [
        "# Imputing Missing Values"
      ],
      "metadata": {
        "id": "LPILgmxGZfnW"
      }
    },
    {
      "cell_type": "code",
      "source": [
        "btc = btc.reindex(range(btc.index[0],btc.index[-1]+60,60),method='pad')\n",
        "eth = eth.reindex(range(eth.index[0],eth.index[-1]+60,60),method='pad')\n",
        "#car = car.reindex(range(car.index[0],car.index[-1]+60,60),method='pad')\n",
        "#binc = binc.reindex(range(binc.index[0],binc.index[-1]+60,60),method='pad')\n",
        "#doge = doge.reindex(range(doge.index[0],doge.index[-1]+60,60),method='pad')\n",
        "#btcc = btcc.reindex(range(btcc.index[0],btcc.index[-1]+60,60),method='pad')\n",
        "#lit = lit.reindex(range(lit.index[0],lit.index[-1]+60,60),method='pad')\n",
        "#ethcl = ethcl.reindex(range(ethcl.index[0],ethcl.index[-1]+60,60),method='pad')\n",
        "#stl = stl.reindex(range(stl.index[0],stl.index[-1]+60,60),method='pad')\n",
        "#tro = tro.reindex(range(tro.index[0],tro.index[-1]+60,60),method='pad')\n",
        "#mon = mon.reindex(range(mon.index[0],mon.index[-1]+60,60),method='pad')\n",
        "#eos = eos.reindex(range(eos.index[0],eos.index[-1]+60,60),method='pad')\n",
        "#iot = iot.reindex(range(iot.index[0],iot.index[-1]+60,60),method='pad')\n",
        "#mak = mak.reindex(range(mak.index[0],mak.index[-1]+60,60),method='pad')"
      ],
      "metadata": {
        "id": "OP5UvXBkZjfC"
      },
      "execution_count": null,
      "outputs": []
    },
    {
      "cell_type": "code",
      "source": [
        "f = plt.figure(figsize=(14,8))\n",
        "\n",
        "ax = f.add_subplot(721)\n",
        "plt.plot(btc['Close'],color='red', label='BTC')\n",
        "plt.legend()\n",
        "plt.xlabel('Time')\n",
        "plt.ylabel('Bitcoin')\n",
        "\n",
        "ax2 = f.add_subplot(722)\n",
        "ax2.plot(eth['Close'], color='red', label='ETH')\n",
        "plt.legend()\n",
        "plt.xlabel('Time')\n",
        "plt.ylabel('Ethereum')\n",
        "\n",
        "ax3 = f.add_subplot(723)\n",
        "ax3.plot(car['Close'], color='red', label='CAR')\n",
        "plt.legend()\n",
        "plt.xlabel('Time')\n",
        "plt.ylabel('Cardano')\n",
        "\n",
        "ax4 = f.add_subplot(724)\n",
        "ax4.plot(binc['Close'], color='red', label='BINC')\n",
        "plt.legend()\n",
        "plt.xlabel('Time')\n",
        "plt.ylabel('Binance Coin')\n",
        "\n",
        "ax5 = f.add_subplot(725)\n",
        "ax5.plot(doge['Close'], color='red', label='DOGE')\n",
        "plt.legend()\n",
        "plt.xlabel('Time')\n",
        "plt.ylabel('Dogecoin')\n",
        "\n",
        "ax6 = f.add_subplot(726)\n",
        "ax6.plot(btcc['Close'], color='red', label='BTCC')\n",
        "plt.legend()\n",
        "plt.xlabel('Time')\n",
        "plt.ylabel('Bitcoin Cash')\n",
        "\n",
        "ax7 = f.add_subplot(727)\n",
        "ax7.plot(lit['Close'], color='red', label='LIT')\n",
        "plt.legend()\n",
        "plt.xlabel('Time')\n",
        "plt.ylabel('Litecoin')\n",
        "\n",
        "ax8 = f.add_subplot(728)\n",
        "ax8.plot(ethcl['Close'], color='red', label='ETHCL')\n",
        "plt.legend()\n",
        "plt.xlabel('Time')\n",
        "plt.ylabel('Ethereum Classic')\n",
        "\n",
        "ax9 = f.add_subplot(729)\n",
        "ax9.plot(stl['Close'], color='red', label='STL')\n",
        "plt.legend()\n",
        "plt.xlabel('Time')\n",
        "plt.ylabel('Stellar')\n",
        "\n",
        "ax10 = f.add_subplot(7,2,10)\n",
        "ax10.plot(tro['Close'], color='red', label='TRO')\n",
        "plt.legend()\n",
        "plt.xlabel('Time')\n",
        "plt.ylabel('TRON')\n",
        "\n",
        "ax11 = f.add_subplot(7,2,11)\n",
        "ax11.plot(mon['Close'], color='red', label='MON')\n",
        "plt.legend()\n",
        "plt.xlabel('Time')\n",
        "plt.ylabel('Monero')\n",
        "\n",
        "ax12 = f.add_subplot(7,2,12)\n",
        "ax12.plot(eos['Close'], color='red', label='EOS')\n",
        "plt.legend()\n",
        "plt.xlabel('Time')\n",
        "plt.ylabel('EOS.IO')\n",
        "\n",
        "ax13 = f.add_subplot(7,2,13)\n",
        "ax13.plot(iot['Close'], color='red', label='IOT')\n",
        "plt.legend()\n",
        "plt.xlabel('Time')\n",
        "plt.ylabel('IOTA')\n",
        "\n",
        "ax14 = f.add_subplot(7,2,14)\n",
        "ax14.plot(mak['Close'], color='red', label='MAK')\n",
        "plt.legend()\n",
        "plt.xlabel('Time')\n",
        "plt.ylabel('Maker')\n",
        "\n",
        "plt.tight_layout()\n",
        "plt.show()"
      ],
      "metadata": {
        "id": "Opp1z8z5b6ho"
      },
      "execution_count": null,
      "outputs": []
    },
    {
      "cell_type": "markdown",
      "source": [
        "All have different patterns.\n",
        "LIT, STL, MON, are little bit similar\n",
        "BTC, MAK, BINC, ETH are similar\n",
        "Rest are diff"
      ],
      "metadata": {
        "id": "nVkKOeyZpetw"
      }
    },
    {
      "cell_type": "markdown",
      "source": [
        "So, starting with only BTC & ETH"
      ],
      "metadata": {
        "id": "XYvhyvmrqQsm"
      }
    },
    {
      "cell_type": "markdown",
      "source": [
        "# Feature Engg"
      ],
      "metadata": {
        "id": "I62qpzlzAP84"
      }
    },
    {
      "cell_type": "code",
      "source": [
        "def upper_shadow(df):\n",
        "    return df[\"High\"] - np.maximum(df[\"Close\"], df[\"Open\"])\n",
        "\n",
        "def lower_shadow(df):\n",
        "    return np.minimum(df[\"Close\"], df[\"Open\"]) - df[\"Low\"]\n",
        "\n",
        "def log_return(series, periods=1):\n",
        "    return np.log(series).diff(periods=periods)\n",
        "\n",
        "#exponential Moving Average\n",
        "def EMA1(df, colname,n):\n",
        "    a= 2/(n+1)\n",
        "    return df[colname].ewm(alpha=a).mean()\n",
        "\n",
        "#MACD is a technical indicator that helps to understand if it is a bullish or bearish market. That is, it can help the investor to understand if he should buy or sell the stock.\n",
        "def MACD(df, colname, span1=12, span2=26, span3=9):\n",
        "    exp1 = EMA1(df, colname, span1)\n",
        "    exp2 = EMA1(df, colname, span2)\n",
        "    macd = 100 * (exp1 - exp2) / exp2\n",
        "    signal = macd.ewm(alpha=2./(span3+1)).mean() ##EMA1(df, colname, macd, span3)\n",
        "    return macd, signal"
      ],
      "metadata": {
        "id": "Jytd8P6RASR4"
      },
      "execution_count": null,
      "outputs": []
    },
    {
      "cell_type": "code",
      "source": [
        "def create_features(df):\n",
        "  df[\"High-Low\"] = df[\"High\"] - df[\"Low\"]\n",
        "  df[\"Close-Open\"] = df[\"Close\"] - df[\"Open\"]\n",
        "  df['log_high/low'] = np.log(df.High / df.Low)\n",
        "  df['hour'] = df['datetime'].dt.hour\n",
        "  df['dayofweek'] = df['datetime'].dt.dayofweek\n",
        "  df['month'] = df['datetime'].dt.month\n",
        "  df['year'] = df['datetime'].dt.year\n",
        "  df['log_return_VWAP_15'] = log_return(df['VWAP'],periods=15)\n",
        "  df['log_return_VWAP_5'] = log_return(df['VWAP'],periods=5)\n",
        "  df['log_return_VWAP_1'] = log_return(df['VWAP'],periods=1)\n",
        "  df['Up_Shadow'] = upper_shadow(df)\n",
        "  df['lo_Shadow'] = lower_shadow(df)\n",
        "  macd, signal = MACD(df, colname=\"Close\")\n",
        "  df['MACD_' + \"Close\" + '_macd'] = macd\n",
        "  df['MACD_' + \"Close\" + '_signal'] = signal\n",
        "  df['MACD_' + \"Close\" + '_macd'] = df['MACD_' + \"Close\" + '_macd'].astype(np.float32)\n",
        "  df['MACD_' + \"Close\" + '_signal'] = df['MACD_' + \"Close\" + '_signal'].astype(np.float32)\n",
        "  return df"
      ],
      "metadata": {
        "id": "k8JcK2Gwbewb"
      },
      "execution_count": null,
      "outputs": []
    },
    {
      "cell_type": "markdown",
      "source": [
        "# Relation"
      ],
      "metadata": {
        "id": "hRXDAE-fPnic"
      }
    },
    {
      "cell_type": "code",
      "source": [
        "btc_long = log_return(btc.Close)[1:]\n",
        "eth_long = log_return(eth.Close)[1:]\n",
        "btc_long.rename('lret_btc', inplace=True)\n",
        "eth_long.rename('lret_eth', inplace=True)\n",
        "assets = pd.concat([btc_long, eth_long], axis=1)\n",
        "cor = assets.groupby(assets.index//(20000*60)).corr().loc[:,\"lret_btc\"].loc[:,\"lret_eth\"]\n",
        "cor.plot()\n",
        "plt.xticks([])\n",
        "plt.ylabel(\"Correlation\")\n",
        "plt.title(\"Correlation between BTC and ETH\")\n",
        "plt.show()"
      ],
      "metadata": {
        "colab": {
          "base_uri": "https://localhost:8080/",
          "height": 278
        },
        "id": "8xCGmU1PPmck",
        "outputId": "fa04fde4-79e2-4645-89c0-4288441dd1e9"
      },
      "execution_count": null,
      "outputs": [
        {
          "output_type": "display_data",
          "data": {
            "text/plain": [
              "<Figure size 432x288 with 1 Axes>"
            ],
            "image/png": "[encoded data removed]"
          },
          "metadata": {
            "needs_background": "light"
          }
        }
      ]
    },
    {
      "cell_type": "markdown",
      "source": [
        "# BTC"
      ],
      "metadata": {
        "id": "LmfT4noM_v0G"
      }
    },
    {
      "cell_type": "code",
      "source": [
        "plt.figure(figsize=(15,5))\n",
        "plt.plot(btc['datetime'],btc['Open'],color='blue', label='Open')\n",
        "plt.plot(btc['datetime'],btc['Close'],color='red', label='Close')\n",
        "plt.legend()\n",
        "plt.xlabel('Time')\n",
        "plt.ylabel('Bitcoin')"
      ],
      "metadata": {
        "colab": {
          "base_uri": "https://localhost:8080/",
          "height": 352
        },
        "id": "LZEQoSG8gudT",
        "outputId": "afbdc365-6d91-421a-9892-a747e1bfaec1"
      },
      "execution_count": null,
      "outputs": [
        {
          "output_type": "execute_result",
          "data": {
            "text/plain": [
              "Text(0, 0.5, 'Bitcoin')"
            ]
          },
          "metadata": {},
          "execution_count": 12
        },
        {
          "output_type": "display_data",
          "data": {
            "text/plain": [
              "<Figure size 1080x360 with 1 Axes>"
            ],
            "image/png": "[encoded data removed]"
          },
          "metadata": {
            "needs_background": "light"
          }
        }
      ]
    },
    {
      "cell_type": "code",
      "source": [
        "plt.figure(figsize=(14,8))\n",
        "plt.plot(btc['datetime'][:10000],btc['Target'][:10000],color='red', label='BTC')\n",
        "plt.legend()\n",
        "plt.xlabel('Time')\n",
        "plt.ylabel('Bitcoin')"
      ],
      "metadata": {
        "colab": {
          "base_uri": "https://localhost:8080/",
          "height": 515
        },
        "id": "ehsSoOmKVqDh",
        "outputId": "3e3980f0-48f8-44b3-e577-85b792222b96"
      },
      "execution_count": null,
      "outputs": [
        {
          "output_type": "execute_result",
          "data": {
            "text/plain": [
              "Text(0, 0.5, 'Bitcoin')"
            ]
          },
          "metadata": {},
          "execution_count": 36
        },
        {
          "output_type": "display_data",
          "data": {
            "text/plain": [
              "<Figure size 1008x576 with 1 Axes>"
            ],
            "image/png": "[encoded data removed]"
          },
          "metadata": {
            "needs_background": "light"
          }
        }
      ]
    },
    {
      "cell_type": "code",
      "source": [
        "btc1 = create_features(btc)"
      ],
      "metadata": {
        "id": "jKH6S294hBdc"
      },
      "execution_count": null,
      "outputs": []
    },
    {
      "cell_type": "code",
      "source": [
        "btc1.info()"
      ],
      "metadata": {
        "colab": {
          "base_uri": "https://localhost:8080/"
        },
        "id": "_2ZpSEzNAhoI",
        "outputId": "50e1af1e-3e39-44fb-ebf3-362e9ec35ad3"
      },
      "execution_count": null,
      "outputs": [
        {
          "output_type": "stream",
          "name": "stdout",
          "text": [
            "<class 'pandas.core.frame.DataFrame'>\n",
            "RangeIndex: 2136960 entries, 1514764860 to 1642982400\n",
            "Data columns (total 24 columns):\n",
            " #   Column              Dtype         \n",
            "---  ------              -----         \n",
            " 0   Asset_ID            int64         \n",
            " 1   Count               float64       \n",
            " 2   Open                float64       \n",
            " 3   High                float64       \n",
            " 4   Low                 float64       \n",
            " 5   Close               float64       \n",
            " 6   Volume              float64       \n",
            " 7   VWAP                float64       \n",
            " 8   Target              float64       \n",
            " 9   datetime            datetime64[ns]\n",
            " 10  High-Low            float64       \n",
            " 11  Close-Open          float64       \n",
            " 12  log_high/low        float64       \n",
            " 13  hour                int64         \n",
            " 14  dayofweek           int64         \n",
            " 15  month               int64         \n",
            " 16  year                int64         \n",
            " 17  log_return_VWAP_15  float64       \n",
            " 18  log_return_VWAP_5   float64       \n",
            " 19  log_return_VWAP_1   float64       \n",
            " 20  Up_Shadow           float64       \n",
            " 21  lo_Shadow           float64       \n",
            " 22  MACD_Close_macd     float32       \n",
            " 23  MACD_Close_signal   float32       \n",
            "dtypes: datetime64[ns](1), float32(2), float64(16), int64(5)\n",
            "memory usage: 375.0 MB\n"
          ]
        }
      ]
    },
    {
      "cell_type": "code",
      "source": [
        "btc2 = btc1.reset_index()"
      ],
      "metadata": {
        "id": "X4SzU7-PBGJQ"
      },
      "execution_count": null,
      "outputs": []
    },
    {
      "cell_type": "code",
      "source": [
        "btc2['Target'] = btc2['Target'].fillna(0)"
      ],
      "metadata": {
        "id": "Y-Hw5cZdEUze"
      },
      "execution_count": null,
      "outputs": []
    },
    {
      "cell_type": "code",
      "source": [
        "X_train = btc2[btc2['datetime']< '2021-07-24 00:00:00']\n",
        "y_train = btc2[btc2['datetime']< '2021-07-24 00:00:00']['Target'].to_numpy()\n",
        "X_val = btc2[btc2['datetime']>= '2021-07-24 00:00:00']\n",
        "y_val = btc2[btc2['datetime']>= '2021-07-24 00:00:00']['Target'].to_numpy()"
      ],
      "metadata": {
        "id": "KALJyy6NB0YN"
      },
      "execution_count": null,
      "outputs": []
    },
    {
      "cell_type": "code",
      "source": [
        "btc2[btc2['datetime']< '2021-07-24 00:00:00'][\"Close\"].plot(figsize=(15, 5), label='train',  title='BTC/USD train/val split')\n",
        "btc2[btc2['datetime']>= '2021-07-24 00:00:00'][\"Close\"].plot(label='val')\n",
        "plt.legend()"
      ],
      "metadata": {
        "colab": {
          "base_uri": "https://localhost:8080/",
          "height": 367
        },
        "id": "uD5egRNvFLJc",
        "outputId": "b87cc011-0f29-4dae-bebd-d26f104a3a0a"
      },
      "execution_count": null,
      "outputs": [
        {
          "output_type": "execute_result",
          "data": {
            "text/plain": [
              "<matplotlib.legend.Legend at 0x7fc72c479ee0>"
            ]
          },
          "metadata": {},
          "execution_count": 16
        },
        {
          "output_type": "display_data",
          "data": {
            "text/plain": [
              "<Figure size 1080x360 with 1 Axes>"
            ],
            "image/png": "[encoded data removed]"
          },
          "metadata": {
            "needs_background": "light"
          }
        }
      ]
    },
    {
      "cell_type": "code",
      "source": [
        "X_train = X_train.fillna(0)\n",
        "x_val = X_val.fillna(0)"
      ],
      "metadata": {
        "id": "sFpQmb5pElv0"
      },
      "execution_count": null,
      "outputs": []
    },
    {
      "cell_type": "code",
      "source": [
        "X_train1 = X_train.drop(['timestamp', \"Target\",'datetime', 'Asset_ID'], axis=1).to_numpy()\n",
        "X_val1 = X_val.drop(['timestamp', \"Target\",'datetime', 'Asset_ID'], axis=1).to_numpy()"
      ],
      "metadata": {
        "id": "LZXvniuuCjpT"
      },
      "execution_count": null,
      "outputs": []
    },
    {
      "cell_type": "code",
      "source": [
        "scaler = StandardScaler()\n",
        "X_train_scaled = scaler.fit_transform(X_train1)\n",
        "X_val_scaled = scaler.transform(X_val1)"
      ],
      "metadata": {
        "id": "sbku4PfQB14P"
      },
      "execution_count": null,
      "outputs": []
    },
    {
      "cell_type": "markdown",
      "source": [
        "# Model1 - Linear Regression"
      ],
      "metadata": {
        "id": "RolTYf9NMgjW"
      }
    },
    {
      "cell_type": "code",
      "source": [
        "reg = LinearRegression()\n",
        "reg.fit(X_train_scaled, y_train)\n",
        "y_pred = reg.predict(X_val_scaled)"
      ],
      "metadata": {
        "id": "Kl8PRBc1C2Ty"
      },
      "execution_count": null,
      "outputs": []
    },
    {
      "cell_type": "code",
      "source": [
        "RMSE = math.sqrt(mean_squared_error(y_val, y_pred))\n",
        "print(\"RMSE:\", RMSE)"
      ],
      "metadata": {
        "colab": {
          "base_uri": "https://localhost:8080/"
        },
        "id": "HowPEQFJFQdM",
        "outputId": "17259c9f-e7ad-4002-d82f-ad26fca12c7a"
      },
      "execution_count": null,
      "outputs": [
        {
          "output_type": "stream",
          "name": "stdout",
          "text": [
            "RMSE: 0.0015761623280763266\n"
          ]
        }
      ]
    },
    {
      "cell_type": "markdown",
      "source": [
        "# Model2 - Light GBM"
      ],
      "metadata": {
        "id": "_G_MIFhuMkpU"
      }
    },
    {
      "cell_type": "code",
      "source": [
        "lgb_model = LGBMRegressor(n_estimators = 100,\n",
        "                          max_depth = 10,\n",
        "                          learning_rate = 0.1,\n",
        "                          seed = 28)"
      ],
      "metadata": {
        "id": "zfZKbHWyFrAG"
      },
      "execution_count": null,
      "outputs": []
    },
    {
      "cell_type": "code",
      "source": [
        "lgb_model.fit(X_train_scaled, y_train)\n",
        "y_pred1 = lgb_model.predict(X_val_scaled)"
      ],
      "metadata": {
        "id": "9xfzwCTsGhCL"
      },
      "execution_count": null,
      "outputs": []
    },
    {
      "cell_type": "code",
      "source": [
        "MSE = mean_squared_error(y_val, y_pred1)\n",
        "RMSE = math.sqrt(MSE)\n",
        "print(\"Root Mean Square Error:\\n\")\n",
        "print(RMSE)"
      ],
      "metadata": {
        "colab": {
          "base_uri": "https://localhost:8080/"
        },
        "id": "4Jn3TuNlGlFW",
        "outputId": "04bb914a-88f1-4347-acc2-d2291129f803"
      },
      "execution_count": null,
      "outputs": [
        {
          "output_type": "stream",
          "name": "stdout",
          "text": [
            "Root Mean Square Error:\n",
            "\n",
            "0.0015937797964813828\n"
          ]
        }
      ]
    },
    {
      "cell_type": "code",
      "source": [
        "##Hyper parameter Tuning\n",
        "lgb= LGBMRegressor()\n",
        "parameters ={'max_depth': [10],\n",
        "             'n_estimators': [50],\n",
        "             #'num_leaves': range(30,150,20),\n",
        "             'learning_rate': [0.005],\n",
        "               }"
      ],
      "metadata": {
        "id": "APcNZkTDisL5"
      },
      "execution_count": null,
      "outputs": []
    },
    {
      "cell_type": "code",
      "source": [
        "clf=GridSearchCV(lgb,param_grid=parameters,scoring='accuracy',cv=5,n_jobs = -1,verbose=True)\n",
        "clf.fit(X_train_scaled,y_train)\n",
        "print(clf.best_params_)"
      ],
      "metadata": {
        "id": "8tBvPWzev4JL",
        "colab": {
          "base_uri": "https://localhost:8080/"
        },
        "outputId": "935acb67-0cfb-4db5-e8c2-64c20088c7f0"
      },
      "execution_count": null,
      "outputs": [
        {
          "output_type": "stream",
          "name": "stdout",
          "text": [
            "Fitting 5 folds for each of 3 candidates, totalling 15 fits\n"
          ]
        },
        {
          "output_type": "stream",
          "name": "stderr",
          "text": [
            "/usr/local/lib/python3.8/dist-packages/sklearn/model_selection/_search.py:969: UserWarning: One or more of the test scores are non-finite: [nan nan nan]\n",
            "  warnings.warn(\n"
          ]
        },
        {
          "output_type": "stream",
          "name": "stdout",
          "text": [
            "{'learning_rate': 0.005, 'max_depth': 10, 'n_estimators': 200}\n"
          ]
        }
      ]
    },
    {
      "cell_type": "code",
      "source": [
        "lgb_model1 = LGBMRegressor(n_estimators = 200,\n",
        "                          max_depth = 10,\n",
        "                          learning_rate = 0.005,\n",
        "                          seed = 28)"
      ],
      "metadata": {
        "id": "HwQ9M6fbzUUJ"
      },
      "execution_count": null,
      "outputs": []
    },
    {
      "cell_type": "code",
      "source": [
        "lgb_model1.fit(X_train_scaled, y_train)\n",
        "y_pred1 = lgb_model1.predict(X_val_scaled)"
      ],
      "metadata": {
        "id": "4PxCv2v2nWYQ"
      },
      "execution_count": null,
      "outputs": []
    },
    {
      "cell_type": "code",
      "source": [
        "MSE = mean_squared_error(y_val, y_pred1)\n",
        "RMSE = math.sqrt(MSE)\n",
        "print(\"Root Mean Square Error:\\n\")\n",
        "print(RMSE)"
      ],
      "metadata": {
        "id": "E64LJ6B4wWHO",
        "colab": {
          "base_uri": "https://localhost:8080/"
        },
        "outputId": "8ab1b481-2899-4e57-ecb6-55ce51a797c5"
      },
      "execution_count": null,
      "outputs": [
        {
          "output_type": "stream",
          "name": "stdout",
          "text": [
            "Root Mean Square Error:\n",
            "\n",
            "0.0018359744373571136\n"
          ]
        }
      ]
    },
    {
      "cell_type": "code",
      "source": [
        "##Hyper parameter Tuning\n",
        "lgb= LGBMRegressor()\n",
        "parameters ={'max_depth': [10],\n",
        "             'n_estimators': range(200,800,200),\n",
        "             #'num_leaves': range(30,150,20),\n",
        "             'learning_rate': [0.005],\n",
        "             'bagging_fraction':[0.8]\n",
        "               }"
      ],
      "metadata": {
        "id": "MoBqjWry0mUq"
      },
      "execution_count": null,
      "outputs": []
    },
    {
      "cell_type": "code",
      "source": [
        "clf=GridSearchCV(lgb,param_grid=parameters,scoring='accuracy',cv=5,n_jobs = -1,verbose=True)\n",
        "clf.fit(X_train_scaled,y_train)\n",
        "print(clf.best_params_)"
      ],
      "metadata": {
        "colab": {
          "base_uri": "https://localhost:8080/"
        },
        "outputId": "0f4fc382-711c-4e06-e3e3-a143535013e8",
        "id": "sSEZaIzU0mUr"
      },
      "execution_count": null,
      "outputs": [
        {
          "output_type": "stream",
          "name": "stdout",
          "text": [
            "Fitting 5 folds for each of 3 candidates, totalling 15 fits\n"
          ]
        },
        {
          "output_type": "stream",
          "name": "stderr",
          "text": [
            "/usr/local/lib/python3.8/dist-packages/sklearn/model_selection/_search.py:969: UserWarning: One or more of the test scores are non-finite: [nan nan nan]\n",
            "  warnings.warn(\n"
          ]
        },
        {
          "output_type": "stream",
          "name": "stdout",
          "text": [
            "{'bagging_fraction': 0.8, 'learning_rate': 0.005, 'max_depth': 10, 'n_estimators': 200}\n"
          ]
        }
      ]
    },
    {
      "cell_type": "code",
      "source": [
        "lgb_model2 = LGBMRegressor(n_estimators = 400,\n",
        "                          max_depth = 15,\n",
        "                          learning_rate = 0.005,\n",
        "                          bagging_fraction= 0.8,\n",
        "                           subsample = 0.8,\n",
        "                           colsample_bytree=0.7,\n",
        "                          seed = 28)"
      ],
      "metadata": {
        "id": "IXWBB7lC5I7s"
      },
      "execution_count": null,
      "outputs": []
    },
    {
      "cell_type": "code",
      "source": [
        "lgb_model2.fit(X_train_scaled, y_train)\n",
        "y_pred2 = lgb_model2.predict(X_val_scaled)"
      ],
      "metadata": {
        "id": "yH04MEBw0mUr"
      },
      "execution_count": null,
      "outputs": []
    },
    {
      "cell_type": "code",
      "source": [
        "MSE = mean_squared_error(y_val, y_pred2)\n",
        "RMSE = math.sqrt(MSE)\n",
        "print(\"Root Mean Square Error:\\n\")\n",
        "print(RMSE)"
      ],
      "metadata": {
        "colab": {
          "base_uri": "https://localhost:8080/"
        },
        "outputId": "247118c1-597c-4c98-ac0c-4012bc8c9c48",
        "id": "8dqL5i9l0mUr"
      },
      "execution_count": null,
      "outputs": [
        {
          "output_type": "stream",
          "name": "stdout",
          "text": [
            "Root Mean Square Error:\n",
            "\n",
            "0.0018383834758303585\n"
          ]
        }
      ]
    },
    {
      "cell_type": "code",
      "source": [
        "##Hyper parameter Tuning\n",
        "lgb= LGBMRegressor()\n",
        "parameters ={'max_depth': [10,15],\n",
        "             'n_estimators': [400],\n",
        "             'num_leaves': range(20,50,10),\n",
        "             'learning_rate': [0.005],\n",
        "             'subsample' : [0.8],\n",
        "            'colsample_bytree': [0.7],\n",
        "             \n",
        "               }"
      ],
      "metadata": {
        "id": "MJ7-8Xj0Q-7F"
      },
      "execution_count": null,
      "outputs": []
    },
    {
      "cell_type": "code",
      "source": [
        "clf=GridSearchCV(lgb,param_grid=parameters,scoring='accuracy',cv=5,n_jobs = -1,verbose=True)\n",
        "clf.fit(X_train_scaled,y_train)\n",
        "print(clf.best_params_)"
      ],
      "metadata": {
        "colab": {
          "base_uri": "https://localhost:8080/"
        },
        "id": "zNsnLDJdVKp3",
        "outputId": "4e3d76c7-f288-4fe1-92be-cad253178f83"
      },
      "execution_count": null,
      "outputs": [
        {
          "output_type": "stream",
          "name": "stdout",
          "text": [
            "Fitting 5 folds for each of 6 candidates, totalling 30 fits\n"
          ]
        },
        {
          "output_type": "stream",
          "name": "stderr",
          "text": [
            "/usr/local/lib/python3.8/dist-packages/sklearn/model_selection/_search.py:969: UserWarning: One or more of the test scores are non-finite: [nan nan nan nan nan nan]\n",
            "  warnings.warn(\n"
          ]
        },
        {
          "output_type": "stream",
          "name": "stdout",
          "text": [
            "{'colsample_bytree': 0.7, 'learning_rate': 0.005, 'max_depth': 10, 'n_estimators': 400, 'num_leaves': 20, 'subsample': 0.8}\n"
          ]
        }
      ]
    },
    {
      "cell_type": "code",
      "source": [
        "##Final Model\n",
        "lgb_model3 = LGBMRegressor(n_estimators = 50,\n",
        "                          max_depth = 10,\n",
        "                          learning_rate = 0.005,\n",
        "                           num_leaves = 20,\n",
        "                          bagging_fraction= 0.8,\n",
        "                           subsample = 0.8,\n",
        "                           colsample_bytree=0.7,\n",
        "                          seed = 28)\n",
        "#1234"
      ],
      "metadata": {
        "id": "82z0Nb-M8Ewi"
      },
      "execution_count": null,
      "outputs": []
    },
    {
      "cell_type": "code",
      "source": [
        "lgb_model3.fit(X_train_scaled, y_train)\n",
        "y_pred2 = lgb_model3.predict(X_val_scaled)"
      ],
      "metadata": {
        "id": "XGhCtfjE8Ewi"
      },
      "execution_count": null,
      "outputs": []
    },
    {
      "cell_type": "code",
      "source": [
        "MSE = mean_squared_error(y_val, y_pred2)\n",
        "RMSE = math.sqrt(MSE)\n",
        "print(\"Root Mean Square Error:\\n\")\n",
        "print(RMSE)"
      ],
      "metadata": {
        "colab": {
          "base_uri": "https://localhost:8080/"
        },
        "outputId": "7f9fa90a-42a9-470e-d051-6e84270febfe",
        "id": "zOFBp7zs8Ewi"
      },
      "execution_count": null,
      "outputs": [
        {
          "output_type": "stream",
          "name": "stdout",
          "text": [
            "Root Mean Square Error:\n",
            "\n",
            "0.0015784262899180578\n"
          ]
        }
      ]
    },
    {
      "cell_type": "markdown",
      "source": [
        "# Model 3 - Exponential Smoothing"
      ],
      "metadata": {
        "id": "Y8b_uELzMpyL"
      }
    },
    {
      "cell_type": "code",
      "source": [
        "btc_ts = btc2[['datetime','Target']]"
      ],
      "metadata": {
        "id": "A0SWHhS97_Xl"
      },
      "execution_count": null,
      "outputs": []
    },
    {
      "cell_type": "code",
      "source": [
        "btc_train_ts = btc_ts[btc_ts['datetime']< '2021-07-24 00:00:00']\n",
        "btc_val_ts = btc_ts[btc_ts['datetime']>= '2021-07-24 00:00:00']"
      ],
      "metadata": {
        "id": "xsRViTyI964Z"
      },
      "execution_count": null,
      "outputs": []
    },
    {
      "cell_type": "code",
      "source": [
        "btc_train_ts = btc_train_ts.set_index('datetime')\n",
        "btc_val_ts = btc_val_ts.set_index('datetime')"
      ],
      "metadata": {
        "id": "fppnpc82ZpL-"
      },
      "execution_count": null,
      "outputs": []
    },
    {
      "cell_type": "code",
      "source": [
        "ses = SimpleExpSmoothing(np.asarray(btc_train_ts['Target']))\n",
        "model1 = ses.fit(smoothing_level = 0.2, optimized = False)\n",
        "model2 = ses.fit(smoothing_level = 0.5, optimized = False)\n",
        "pred1 = model1.forecast(264961)\n",
        "pred2 = model2.forecast(264961)"
      ],
      "metadata": {
        "id": "zl-5Lo1OMtOf",
        "colab": {
          "base_uri": "https://localhost:8080/"
        },
        "outputId": "f6de7ef5-b902-4a66-d8ea-b315dc784556"
      },
      "execution_count": null,
      "outputs": [
        {
          "output_type": "stream",
          "name": "stderr",
          "text": [
            "/usr/local/lib/python3.8/dist-packages/statsmodels/tsa/holtwinters/model.py:427: FutureWarning: After 0.13 initialization must be handled at model creation\n",
            "  warnings.warn(\n"
          ]
        }
      ]
    },
    {
      "cell_type": "code",
      "source": [
        "fig, ax = plt.subplots(figsize=(12, 6))\n",
        "ax.plot(btc_train_ts.index, btc_train_ts.values, label ='Train')\n",
        "ax.plot(btc_val_ts.index, btc_val_ts.values, color=\"gray\", label=\"Validation\")\n",
        "for p, f, c in zip((pred1, pred2),(model1,model2),('#ff7823','#3c763d')):\n",
        "    ax.plot(btc_train_ts.index, f.fittedvalues, color=c)\n",
        "    ax.plot(btc_val_ts.index, p, label=\"alpha=\"+str(f.params['smoothing_level']), color=c)\n",
        "plt.title(\"Simple Exponential Smoothing\")    \n",
        "plt.legend();"
      ],
      "metadata": {
        "colab": {
          "base_uri": "https://localhost:8080/",
          "height": 390
        },
        "id": "_85s606Ir7pr",
        "outputId": "82acd752-3e2c-4e93-840a-a62959c15cc9"
      },
      "execution_count": null,
      "outputs": [
        {
          "output_type": "display_data",
          "data": {
            "text/plain": [
              "<Figure size 864x432 with 1 Axes>"
            ],
            "image/png": "[encoded data removed]"
          },
          "metadata": {
            "needs_background": "light"
          }
        }
      ]
    },
    {
      "cell_type": "code",
      "source": [
        "MSE1 = mean_squared_error(np.asarray(btc_val_ts.values), pred1)\n",
        "RMSE1 = math.sqrt(MSE1)\n",
        "MSE2 = mean_squared_error(np.asarray(btc_val_ts.values), pred2)\n",
        "RMSE2 = math.sqrt(MSE2)\n",
        "print(\"RMSE1:\", RMSE1)\n",
        "print(\"RMSE2:\", RMSE2)"
      ],
      "metadata": {
        "colab": {
          "base_uri": "https://localhost:8080/"
        },
        "id": "Wsc2vuHt-oR-",
        "outputId": "dd79bec5-d17a-49ef-e3c4-01dd4a7514e9"
      },
      "execution_count": null,
      "outputs": [
        {
          "output_type": "stream",
          "name": "stdout",
          "text": [
            "RMSE1: 0.0016248004190025386\n",
            "RMSE2: 0.0025944357615971603\n"
          ]
        }
      ]
    },
    {
      "cell_type": "markdown",
      "source": [
        "# Model 4 - XG Boost"
      ],
      "metadata": {
        "id": "XwCc6poH9Fo9"
      }
    },
    {
      "cell_type": "code",
      "source": [
        "xgb_model = XGBRegressor(n_estimators = 500,\n",
        "                          max_depth = 10,\n",
        "                          learning_rate = 0.05, \n",
        "                          colsample_bytree=0.4,\n",
        "                          seed = 28)"
      ],
      "metadata": {
        "id": "tan_TH-ieuHG"
      },
      "execution_count": null,
      "outputs": []
    },
    {
      "cell_type": "code",
      "source": [
        "xgb_model.fit(X_train_scaled, y_train)\n",
        "y_pred4 = xgb_model.predict(X_val_scaled)"
      ],
      "metadata": {
        "id": "7oW2mp8EeuHG"
      },
      "execution_count": null,
      "outputs": []
    },
    {
      "cell_type": "code",
      "source": [
        "RMSE = math.sqrt(mean_squared_error(y_pred4,y_val))\n",
        "print(\"RMSE:\", RMSE)"
      ],
      "metadata": {
        "colab": {
          "base_uri": "https://localhost:8080/"
        },
        "outputId": "2523c961-5d0d-447c-d8be-ae2552b75a75",
        "id": "Fz2rtbymeuHG"
      },
      "execution_count": null,
      "outputs": [
        {
          "output_type": "stream",
          "name": "stdout",
          "text": [
            "0.00194031878478275\n"
          ]
        }
      ]
    },
    {
      "cell_type": "markdown",
      "source": [
        "# Model 5- LSTM"
      ],
      "metadata": {
        "id": "Ck10nQpomQjC"
      }
    },
    {
      "cell_type": "code",
      "source": [
        "class sample_generator(keras.utils.Sequence):\n",
        "    def __init__(self, x_set, y_set, batch_size, length):\n",
        "        self.x, self.y = x_set, y_set\n",
        "        self.batch_size = batch_size\n",
        "        self.length = length\n",
        "        self.size = len(x_set)\n",
        "\n",
        "    def __len__(self):\n",
        "        return int(np.ceil(len(self.x) / float(self.batch_size)))\n",
        "\n",
        "    def __getitem__(self, idx):\n",
        "        batch_x=[]\n",
        "        batch_y=[]\n",
        "        for i in range(self.batch_size):\n",
        "            start_ind = self.batch_size*idx + i\n",
        "            end_ind = start_ind + self.length \n",
        "            if end_ind <= self.size:\n",
        "                batch_x.append(self.x[start_ind : end_ind])\n",
        "                batch_y.append(self.y[end_ind -1])\n",
        "\n",
        "        return np.array(batch_x), np.array(batch_y)"
      ],
      "metadata": {
        "id": "r4vQES1cokP0"
      },
      "execution_count": null,
      "outputs": []
    },
    {
      "cell_type": "code",
      "source": [
        "BATCH_SIZE=2**10\n",
        "train_window = sample_generator(X_train_scaled, y_train, length=15, batch_size=BATCH_SIZE)\n",
        "val_window = sample_generator(X_val_scaled, y_val, length=15, batch_size=BATCH_SIZE)"
      ],
      "metadata": {
        "id": "Y8FamF7AoztU"
      },
      "execution_count": null,
      "outputs": []
    },
    {
      "cell_type": "code",
      "source": [
        "train_window[0][0].shape[0]"
      ],
      "metadata": {
        "colab": {
          "base_uri": "https://localhost:8080/"
        },
        "id": "G2QoeiQpqK7B",
        "outputId": "988a9e7c-1859-4fec-9935-aff165a71fda"
      },
      "execution_count": null,
      "outputs": [
        {
          "output_type": "execute_result",
          "data": {
            "text/plain": [
              "1024"
            ]
          },
          "metadata": {},
          "execution_count": 68
        }
      ]
    },
    {
      "cell_type": "code",
      "source": [
        "from keras.layers.rnn import lstm_v1\n",
        "def build_lstm_model():\n",
        "    lstm = Sequential()\n",
        "    lstm.add(LSTM(32,return_sequences=True,input_shape=(train_window[0][0].shape[1],train_window[0][0].shape[-1])))\n",
        "    lstm.add(layers.BatchNormalization())\n",
        "    lstm.add(Dropout(0.2))\n",
        "\n",
        "    #lstm.add(LSTM(32,return_sequences=False))\n",
        "    #lstm.add(layers.BatchNormalization())\n",
        "    #lstm.add(Dropout(0.2))\n",
        "\n",
        "    lstm.add(Dense(64))\n",
        "    lstm.add(Dropout(0.1))\n",
        "    lstm.add(Dense(1))\n",
        "    return lstm"
      ],
      "metadata": {
        "id": "3fUeeeRCmP9u"
      },
      "execution_count": null,
      "outputs": []
    },
    {
      "cell_type": "code",
      "source": [
        "lstm_model = build_lstm_model()\n",
        "lstm_model.summary()"
      ],
      "metadata": {
        "id": "8J7R8Nkwlkq8",
        "colab": {
          "base_uri": "https://localhost:8080/"
        },
        "outputId": "12e0de66-d5ed-4e30-9cc7-710b044dcc9a"
      },
      "execution_count": null,
      "outputs": [
        {
          "output_type": "stream",
          "name": "stdout",
          "text": [
            "Model: \"sequential\"\n",
            "_________________________________________________________________\n",
            " Layer (type)                Output Shape              Param #   \n",
            "=================================================================\n",
            " lstm (LSTM)                 (None, 15, 32)            6912      \n",
            "                                                                 \n",
            " batch_normalization (BatchN  (None, 15, 32)           128       \n",
            " ormalization)                                                   \n",
            "                                                                 \n",
            " dropout (Dropout)           (None, 15, 32)            0         \n",
            "                                                                 \n",
            " dense (Dense)               (None, 15, 64)            2112      \n",
            "                                                                 \n",
            " dropout_1 (Dropout)         (None, 15, 64)            0         \n",
            "                                                                 \n",
            " dense_1 (Dense)             (None, 15, 1)             65        \n",
            "                                                                 \n",
            "=================================================================\n",
            "Total params: 9,217\n",
            "Trainable params: 9,153\n",
            "Non-trainable params: 64\n",
            "_________________________________________________________________\n"
          ]
        }
      ]
    },
    {
      "cell_type": "code",
      "execution_count": null,
      "metadata": {
        "tags": [],
        "id": "rRMY5I6rrI6m"
      },
      "outputs": [],
      "source": [
        "optimizer = keras.optimizers.Adam(0.0005)\n",
        "lstm_model.compile(loss='mse', optimizer='adam',metrics=['mse'])"
      ]
    },
    {
      "cell_type": "code",
      "execution_count": null,
      "metadata": {
        "colab": {
          "base_uri": "https://localhost:8080/"
        },
        "id": "Qn4UT4MWrI6m",
        "outputId": "3e4f7946-bfd3-4e5f-bb97-f9b3642c7156"
      },
      "outputs": [
        {
          "output_type": "stream",
          "name": "stdout",
          "text": [
            "Epoch 1/5\n",
            "1829/1829 [==============================] - 491s 264ms/step - loss: 0.0217 - mse: 0.0217 - val_loss: 1.3724e-05 - val_mse: 1.3724e-05\n",
            "Epoch 2/5\n",
            "1829/1829 [==============================] - 498s 272ms/step - loss: 2.1880e-04 - mse: 2.1880e-04 - val_loss: 2.8830e-06 - val_mse: 2.8830e-06\n",
            "Epoch 3/5\n",
            "1829/1829 [==============================] - 480s 262ms/step - loss: 8.1226e-06 - mse: 8.1226e-06 - val_loss: 2.9111e-06 - val_mse: 2.9111e-06\n"
          ]
        }
      ],
      "source": [
        "# Display training progress by printing a single dot for each completed epoch\n",
        "tf.random.set_seed(14)\n",
        "class PrintLoss(keras.callbacks.Callback):\n",
        "    def on_epoch_end(self, epoch, logs):\n",
        "        # calculate training time\n",
        "        t = time.monotonic() - self.time\n",
        "        print('| Epoch {:2} | training time {:6.2f}s | train loss {:6.2f} | validation loss {:6.2f}'\n",
        "              .format(epoch, t, logs['loss'], logs['val_loss']))\n",
        "        \n",
        "    def on_epoch_begin(self, epoch, logs):\n",
        "        if epoch == 0: self.time = time.monotonic()\n",
        "\n",
        "EPOCHS = 5\n",
        "BATCH = 2048\n",
        "\n",
        "early_stop = keras.callbacks.EarlyStopping(monitor='val_loss', patience=1)\n",
        "history = lstm_model.fit(train_window, batch_size=BATCH,\n",
        "                              epochs=EPOCHS, verbose=1, validation_data = (val_window),\n",
        "                              callbacks=[early_stop])"
      ]
    },
    {
      "cell_type": "code",
      "execution_count": null,
      "metadata": {
        "id": "A_axiIvCrI6m",
        "colab": {
          "base_uri": "https://localhost:8080/",
          "height": 279
        },
        "outputId": "67e66c53-5992-46c3-b0fd-e64da8d70580"
      },
      "outputs": [
        {
          "output_type": "display_data",
          "data": {
            "text/plain": [
              "<Figure size 432x288 with 1 Axes>"
            ],
            "image/png": "[encoded data removed]"
          },
          "metadata": {
            "needs_background": "light"
          }
        }
      ],
      "source": [
        "def plot_history(history):\n",
        "    hist = pd.DataFrame(history.history)\n",
        "    hist['epoch'] = history.epoch\n",
        "    hist.tail()\n",
        "\n",
        "    plt.figure()\n",
        "    plt.xlabel('Epoch')\n",
        "    plt.ylabel('Accuracy')\n",
        "    plt.plot(hist['epoch'], hist['mse'], label=\"train\")\n",
        "    plt.plot(hist['epoch'], hist['val_mse'], label=\"val\")\n",
        "    plt.legend()\n",
        "    plt.show()\n",
        "plot_history(history)"
      ]
    },
    {
      "cell_type": "code",
      "source": [
        "predictions = lstm_model.predict(val_window)\n",
        "predictions.shape"
      ],
      "metadata": {
        "id": "jhfCRi_lt4mn",
        "colab": {
          "base_uri": "https://localhost:8080/"
        },
        "outputId": "a01d37e5-d578-4fd2-e559-6cdf58f52a9c"
      },
      "execution_count": null,
      "outputs": [
        {
          "output_type": "stream",
          "name": "stdout",
          "text": [
            "259/259 [==============================] - 12s 42ms/step\n"
          ]
        },
        {
          "output_type": "execute_result",
          "data": {
            "text/plain": [
              "(264947, 15, 1)"
            ]
          },
          "metadata": {},
          "execution_count": 26
        }
      ]
    },
    {
      "cell_type": "code",
      "source": [
        "y_true_val = np.squeeze(y_val[14:])\n",
        "y_true_val.shape"
      ],
      "metadata": {
        "colab": {
          "base_uri": "https://localhost:8080/"
        },
        "id": "IC6Er_weQ0dI",
        "outputId": "336568d8-ba47-491b-9f9b-397c2ecb0326"
      },
      "execution_count": null,
      "outputs": [
        {
          "output_type": "execute_result",
          "data": {
            "text/plain": [
              "(264947,)"
            ]
          },
          "metadata": {},
          "execution_count": 27
        }
      ]
    },
    {
      "cell_type": "code",
      "source": [
        "RMSE = math.sqrt(mean_squared_error(y_true_val, predictions[:,1]))\n",
        "print(\"RMSE:\", RMSE)"
      ],
      "metadata": {
        "colab": {
          "base_uri": "https://localhost:8080/"
        },
        "id": "mx4fqIWmRDbq",
        "outputId": "fd4332af-e6d3-43c0-8dab-2aa5eb0f4aa2"
      },
      "execution_count": null,
      "outputs": [
        {
          "output_type": "stream",
          "name": "stdout",
          "text": [
            "RMSE: 0.0017129695645881082\n"
          ]
        }
      ]
    },
    {
      "cell_type": "markdown",
      "source": [
        "# Model 6- LSTM1 - BEST"
      ],
      "metadata": {
        "id": "k4nXUyNnSr9A"
      }
    },
    {
      "cell_type": "code",
      "source": [
        "class sample_generator(keras.utils.Sequence):\n",
        "    def __init__(self, x_set, y_set, batch_size, length):\n",
        "        self.x, self.y = x_set, y_set\n",
        "        self.batch_size = batch_size\n",
        "        self.length = length\n",
        "        self.size = len(x_set)\n",
        "\n",
        "    def __len__(self):\n",
        "        return int(np.ceil(len(self.x) / float(self.batch_size)))\n",
        "\n",
        "    def __getitem__(self, idx):\n",
        "        batch_x=[]\n",
        "        batch_y=[]\n",
        "        for i in range(self.batch_size):\n",
        "            start_ind = self.batch_size*idx + i\n",
        "            end_ind = start_ind + self.length \n",
        "            if end_ind <= self.size:\n",
        "                batch_x.append(self.x[start_ind : end_ind])\n",
        "                batch_y.append(self.y[end_ind -1])\n",
        "\n",
        "        return np.array(batch_x), np.array(batch_y)"
      ],
      "metadata": {
        "id": "eFIQPq6RSr9C"
      },
      "execution_count": null,
      "outputs": []
    },
    {
      "cell_type": "code",
      "source": [
        "BATCH_SIZE=2**10\n",
        "train_window = sample_generator(X_train_scaled, y_train, length=15, batch_size=BATCH_SIZE)\n",
        "val_window = sample_generator(X_val_scaled, y_val, length=15, batch_size=BATCH_SIZE)"
      ],
      "metadata": {
        "id": "7YDKW7pHSr9D"
      },
      "execution_count": null,
      "outputs": []
    },
    {
      "cell_type": "code",
      "source": [
        "train_window[0][0].shape[0]"
      ],
      "metadata": {
        "colab": {
          "base_uri": "https://localhost:8080/"
        },
        "outputId": "665a6e90-5447-4fb9-bf5f-be73d951a4f6",
        "id": "ODCVE4zZSr9D"
      },
      "execution_count": null,
      "outputs": [
        {
          "output_type": "execute_result",
          "data": {
            "text/plain": [
              "1024"
            ]
          },
          "metadata": {},
          "execution_count": 22
        }
      ]
    },
    {
      "cell_type": "code",
      "source": [
        "from keras.layers.rnn import lstm_v1\n",
        "def build_lstm_model():\n",
        "    lstm = Sequential()\n",
        "    lstm.add(LSTM(32,return_sequences=True,input_shape=(train_window[0][0].shape[1],train_window[0][0].shape[-1])))\n",
        "    lstm.add(layers.BatchNormalization())\n",
        "    lstm.add(Dropout(0.2))\n",
        "\n",
        "    lstm.add(LSTM(32,return_sequences=False))\n",
        "    lstm.add(layers.BatchNormalization())\n",
        "    lstm.add(Dropout(0.2))\n",
        "\n",
        "    #lstm.add(Dense(128))\n",
        "    lstm.add(Dropout(0.2))\n",
        "    lstm.add(Dense(1))\n",
        "    return lstm"
      ],
      "metadata": {
        "id": "viFv4MSnSr9E"
      },
      "execution_count": null,
      "outputs": []
    },
    {
      "cell_type": "code",
      "source": [
        "lstm_model = build_lstm_model()\n",
        "lstm_model.summary()"
      ],
      "metadata": {
        "colab": {
          "base_uri": "https://localhost:8080/"
        },
        "outputId": "0868736f-a58c-435b-8df0-d2d1b8e27d6c",
        "id": "lFNNkdDQSr9E"
      },
      "execution_count": null,
      "outputs": [
        {
          "output_type": "stream",
          "name": "stdout",
          "text": [
            "Model: \"sequential\"\n",
            "_________________________________________________________________\n",
            " Layer (type)                Output Shape              Param #   \n",
            "=================================================================\n",
            " lstm (LSTM)                 (None, 15, 32)            6912      \n",
            "                                                                 \n",
            " batch_normalization (BatchN  (None, 15, 32)           128       \n",
            " ormalization)                                                   \n",
            "                                                                 \n",
            " dropout (Dropout)           (None, 15, 32)            0         \n",
            "                                                                 \n",
            " lstm_1 (LSTM)               (None, 32)                8320      \n",
            "                                                                 \n",
            " batch_normalization_1 (Batc  (None, 32)               128       \n",
            " hNormalization)                                                 \n",
            "                                                                 \n",
            " dropout_1 (Dropout)         (None, 32)                0         \n",
            "                                                                 \n",
            " dropout_2 (Dropout)         (None, 32)                0         \n",
            "                                                                 \n",
            " dense (Dense)               (None, 1)                 33        \n",
            "                                                                 \n",
            "=================================================================\n",
            "Total params: 15,521\n",
            "Trainable params: 15,393\n",
            "Non-trainable params: 128\n",
            "_________________________________________________________________\n"
          ]
        }
      ]
    },
    {
      "cell_type": "code",
      "execution_count": null,
      "metadata": {
        "tags": [],
        "id": "v9_Zs0l0Sr9F"
      },
      "outputs": [],
      "source": [
        "optimizer = keras.optimizers.Adam(0.0005)\n",
        "lstm_model.compile(loss='mse', optimizer='adam',metrics=['mse'])"
      ]
    },
    {
      "cell_type": "code",
      "execution_count": null,
      "metadata": {
        "colab": {
          "base_uri": "https://localhost:8080/"
        },
        "outputId": "6cc6878c-c5e3-4360-cb98-e8d5a5d38f90",
        "id": "kjCECP3GSr9F"
      },
      "outputs": [
        {
          "output_type": "stream",
          "name": "stdout",
          "text": [
            "Epoch 1/5\n",
            "1829/1829 [==============================] - 299s 160ms/step - loss: 0.1374 - mse: 0.1374 - val_loss: 2.5911e-06 - val_mse: 2.5911e-06\n",
            "Epoch 2/5\n",
            "1829/1829 [==============================] - 293s 160ms/step - loss: 4.1800e-06 - mse: 4.1800e-06 - val_loss: 2.4962e-06 - val_mse: 2.4962e-06\n",
            "Epoch 3/5\n",
            "1829/1829 [==============================] - 293s 160ms/step - loss: 4.2021e-06 - mse: 4.2021e-06 - val_loss: 2.5110e-06 - val_mse: 2.5110e-06\n"
          ]
        }
      ],
      "source": [
        "# Display training progress by printing a single dot for each completed epoch\n",
        "tf.random.set_seed(14)\n",
        "class PrintLoss(keras.callbacks.Callback):\n",
        "    def on_epoch_end(self, epoch, logs):\n",
        "        # calculate training time\n",
        "        t = time.monotonic() - self.time\n",
        "        print('| Epoch {:2} | training time {:6.2f}s | train loss {:6.2f} | validation loss {:6.2f}'\n",
        "              .format(epoch, t, logs['loss'], logs['val_loss']))\n",
        "        \n",
        "    def on_epoch_begin(self, epoch, logs):\n",
        "        if epoch == 0: self.time = time.monotonic()\n",
        "\n",
        "EPOCHS = 5\n",
        "BATCH = 1024\n",
        "\n",
        "early_stop = keras.callbacks.EarlyStopping(monitor='val_loss', patience=1)\n",
        "history = lstm_model.fit(train_window, batch_size=BATCH,\n",
        "                              epochs=EPOCHS, verbose=1, validation_data = (val_window),\n",
        "                              callbacks=[early_stop])"
      ]
    },
    {
      "cell_type": "code",
      "execution_count": null,
      "metadata": {
        "colab": {
          "base_uri": "https://localhost:8080/",
          "height": 279
        },
        "outputId": "31392682-8f7a-4b03-f21b-3b3c67cf3953",
        "id": "1WnJ-qp6Sr9F"
      },
      "outputs": [
        {
          "output_type": "display_data",
          "data": {
            "text/plain": [
              "<Figure size 432x288 with 1 Axes>"
            ],
            "image/png": "[encoded data removed]"
          },
          "metadata": {
            "needs_background": "light"
          }
        }
      ],
      "source": [
        "def plot_history(history):\n",
        "    hist = pd.DataFrame(history.history)\n",
        "    hist['epoch'] = history.epoch\n",
        "    hist.tail()\n",
        "\n",
        "    plt.figure()\n",
        "    plt.xlabel('Epoch')\n",
        "    plt.ylabel('Accuracy')\n",
        "    plt.plot(hist['epoch'], hist['mse'], label=\"train\")\n",
        "    plt.plot(hist['epoch'], hist['val_mse'], label=\"val\")\n",
        "    plt.legend()\n",
        "    plt.show()\n",
        "plot_history(history)"
      ]
    },
    {
      "cell_type": "code",
      "source": [
        "predictions = lstm_model.predict(val_window)\n",
        "predictions.shape"
      ],
      "metadata": {
        "colab": {
          "base_uri": "https://localhost:8080/"
        },
        "outputId": "524a35a6-32bc-4227-a108-253395852bf2",
        "id": "qvJ3G40iSr9G"
      },
      "execution_count": null,
      "outputs": [
        {
          "output_type": "stream",
          "name": "stdout",
          "text": [
            "259/259 [==============================] - 23s 80ms/step\n"
          ]
        },
        {
          "output_type": "execute_result",
          "data": {
            "text/plain": [
              "(264947, 1)"
            ]
          },
          "metadata": {},
          "execution_count": 27
        }
      ]
    },
    {
      "cell_type": "code",
      "source": [
        "y_true_val = np.squeeze(y_val[14:])\n",
        "y_true_val.shape"
      ],
      "metadata": {
        "colab": {
          "base_uri": "https://localhost:8080/"
        },
        "outputId": "430e8a5d-8ba3-4fad-c109-fd2ac7e206ca",
        "id": "x1FxzDN5Sr9G"
      },
      "execution_count": null,
      "outputs": [
        {
          "output_type": "execute_result",
          "data": {
            "text/plain": [
              "(264947,)"
            ]
          },
          "metadata": {},
          "execution_count": 28
        }
      ]
    },
    {
      "cell_type": "code",
      "source": [
        "RMSE = math.sqrt(mean_squared_error(y_true_val, predictions))\n",
        "print(\"RMSE:\", RMSE)"
      ],
      "metadata": {
        "colab": {
          "base_uri": "https://localhost:8080/"
        },
        "outputId": "b1ce4a02-3185-4c4d-cbbb-9781cd27d5a0",
        "id": "YAhL3K13Sr9G"
      },
      "execution_count": null,
      "outputs": [
        {
          "output_type": "stream",
          "name": "stdout",
          "text": [
            "RMSE: 0.0015846170216166347\n"
          ]
        }
      ]
    },
    {
      "cell_type": "markdown",
      "source": [
        "# Model 7- LSTM2"
      ],
      "metadata": {
        "id": "uAwGNcMRZUIB"
      }
    },
    {
      "cell_type": "code",
      "source": [
        "class sample_generator(keras.utils.Sequence):\n",
        "    def __init__(self, x_set, y_set, batch_size, length):\n",
        "        self.x, self.y = x_set, y_set\n",
        "        self.batch_size = batch_size\n",
        "        self.length = length\n",
        "        self.size = len(x_set)\n",
        "\n",
        "    def __len__(self):\n",
        "        return int(np.ceil(len(self.x) / float(self.batch_size)))\n",
        "\n",
        "    def __getitem__(self, idx):\n",
        "        batch_x=[]\n",
        "        batch_y=[]\n",
        "        for i in range(self.batch_size):\n",
        "            start_ind = self.batch_size*idx + i\n",
        "            end_ind = start_ind + self.length \n",
        "            if end_ind <= self.size:\n",
        "                batch_x.append(self.x[start_ind : end_ind])\n",
        "                batch_y.append(self.y[end_ind -1])\n",
        "\n",
        "        return np.array(batch_x), np.array(batch_y)"
      ],
      "metadata": {
        "id": "xuhY7EYWZUIB"
      },
      "execution_count": null,
      "outputs": []
    },
    {
      "cell_type": "code",
      "source": [
        "BATCH_SIZE=2**10\n",
        "train_window = sample_generator(X_train_scaled, y_train, length=15, batch_size=BATCH_SIZE)\n",
        "val_window = sample_generator(X_val_scaled, y_val, length=15, batch_size=BATCH_SIZE)"
      ],
      "metadata": {
        "id": "aJwjAsXTZUIC"
      },
      "execution_count": null,
      "outputs": []
    },
    {
      "cell_type": "code",
      "source": [
        "train_window[0][0].shape[0]"
      ],
      "metadata": {
        "colab": {
          "base_uri": "https://localhost:8080/"
        },
        "outputId": "665a6e90-5447-4fb9-bf5f-be73d951a4f6",
        "id": "A7zVIAb_ZUIC"
      },
      "execution_count": null,
      "outputs": [
        {
          "output_type": "execute_result",
          "data": {
            "text/plain": [
              "1024"
            ]
          },
          "metadata": {},
          "execution_count": 22
        }
      ]
    },
    {
      "cell_type": "code",
      "source": [
        "from keras.layers.rnn import lstm_v1\n",
        "def build_lstm_model():\n",
        "    lstm = Sequential()\n",
        "    lstm.add(LSTM(32,return_sequences=True,input_shape=(train_window[0][0].shape[1],train_window[0][0].shape[-1])))\n",
        "    lstm.add(layers.BatchNormalization())\n",
        "    lstm.add(Dropout(0.2))\n",
        "\n",
        "    lstm.add(LSTM(32,return_sequences=False))\n",
        "    lstm.add(layers.BatchNormalization())\n",
        "    lstm.add(Dropout(0.2))\n",
        "\n",
        "    #lstm.add(Dense(128))\n",
        "    #lstm.add(Dropout(0.2))\n",
        "    lstm.add(Dense(1))\n",
        "    return lstm"
      ],
      "metadata": {
        "id": "21KwnXneZUIC"
      },
      "execution_count": null,
      "outputs": []
    },
    {
      "cell_type": "code",
      "source": [
        "lstm_model = build_lstm_model()\n",
        "lstm_model.summary()"
      ],
      "metadata": {
        "colab": {
          "base_uri": "https://localhost:8080/"
        },
        "outputId": "297b2f9f-12b9-4993-fcd0-b749280278b9",
        "id": "L9pv_-ZXZUIC"
      },
      "execution_count": null,
      "outputs": [
        {
          "output_type": "stream",
          "name": "stdout",
          "text": [
            "Model: \"sequential\"\n",
            "_________________________________________________________________\n",
            " Layer (type)                Output Shape              Param #   \n",
            "=================================================================\n",
            " lstm (LSTM)                 (None, 15, 32)            6912      \n",
            "                                                                 \n",
            " batch_normalization (BatchN  (None, 15, 32)           128       \n",
            " ormalization)                                                   \n",
            "                                                                 \n",
            " dropout (Dropout)           (None, 15, 32)            0         \n",
            "                                                                 \n",
            " lstm_1 (LSTM)               (None, 32)                8320      \n",
            "                                                                 \n",
            " batch_normalization_1 (Batc  (None, 32)               128       \n",
            " hNormalization)                                                 \n",
            "                                                                 \n",
            " dropout_1 (Dropout)         (None, 32)                0         \n",
            "                                                                 \n",
            " dense (Dense)               (None, 1)                 33        \n",
            "                                                                 \n",
            "=================================================================\n",
            "Total params: 15,521\n",
            "Trainable params: 15,393\n",
            "Non-trainable params: 128\n",
            "_________________________________________________________________\n"
          ]
        }
      ]
    },
    {
      "cell_type": "code",
      "execution_count": null,
      "metadata": {
        "tags": [],
        "id": "REZ_9eaWZUIC"
      },
      "outputs": [],
      "source": [
        "optimizer = keras.optimizers.Adam(0.0005)\n",
        "lstm_model.compile(loss='mse', optimizer='adam',metrics=['mse'])"
      ]
    },
    {
      "cell_type": "code",
      "execution_count": null,
      "metadata": {
        "colab": {
          "base_uri": "https://localhost:8080/"
        },
        "outputId": "63d5c3f7-cc9c-4899-99be-b98f5baee0f9",
        "id": "MahHY5YXZUIC"
      },
      "outputs": [
        {
          "output_type": "stream",
          "name": "stdout",
          "text": [
            "Epoch 1/5\n",
            "1625/1625 [==============================] - 294s 177ms/step - loss: 0.0915 - mse: 0.0915 - val_loss: 3.8263e-05 - val_mse: 3.8263e-05\n",
            "Epoch 2/5\n",
            "1625/1625 [==============================] - 284s 175ms/step - loss: 8.4344e-06 - mse: 8.4344e-06 - val_loss: 3.4392e-06 - val_mse: 3.4392e-06\n",
            "Epoch 3/5\n",
            "1625/1625 [==============================] - 291s 179ms/step - loss: 4.1762e-06 - mse: 4.1762e-06 - val_loss: 3.3744e-06 - val_mse: 3.3744e-06\n",
            "Epoch 4/5\n",
            "1625/1625 [==============================] - 297s 183ms/step - loss: 4.2753e-06 - mse: 4.2753e-06 - val_loss: 3.4194e-06 - val_mse: 3.4194e-06\n"
          ]
        }
      ],
      "source": [
        "# Display training progress by printing a single dot for each completed epoch\n",
        "tf.random.set_seed(14)\n",
        "class PrintLoss(keras.callbacks.Callback):\n",
        "    def on_epoch_end(self, epoch, logs):\n",
        "        # calculate training time\n",
        "        t = time.monotonic() - self.time\n",
        "        print('| Epoch {:2} | training time {:6.2f}s | train loss {:6.2f} | validation loss {:6.2f}'\n",
        "              .format(epoch, t, logs['loss'], logs['val_loss']))\n",
        "        \n",
        "    def on_epoch_begin(self, epoch, logs):\n",
        "        if epoch == 0: self.time = time.monotonic()\n",
        "\n",
        "EPOCHS = 5\n",
        "BATCH = 512\n",
        "\n",
        "early_stop = keras.callbacks.EarlyStopping(monitor='val_loss', patience=1)\n",
        "history = lstm_model.fit(train_window, batch_size=BATCH,\n",
        "                              epochs=EPOCHS, verbose=1, validation_data = (val_window),\n",
        "                              callbacks=[early_stop])"
      ]
    },
    {
      "cell_type": "code",
      "execution_count": null,
      "metadata": {
        "colab": {
          "base_uri": "https://localhost:8080/",
          "height": 279
        },
        "outputId": "90c508ea-a1fe-4438-887e-688d7ffa6be1",
        "id": "X9j1eDJ2ZUID"
      },
      "outputs": [
        {
          "output_type": "display_data",
          "data": {
            "text/plain": [
              "<Figure size 432x288 with 1 Axes>"
            ],
            "image/png": "[encoded data removed]"
          },
          "metadata": {
            "needs_background": "light"
          }
        }
      ],
      "source": [
        "def plot_history(history):\n",
        "    hist = pd.DataFrame(history.history)\n",
        "    hist['epoch'] = history.epoch\n",
        "    hist.tail()\n",
        "\n",
        "    plt.figure()\n",
        "    plt.xlabel('Epoch')\n",
        "    plt.ylabel('Accuracy')\n",
        "    plt.plot(hist['epoch'], hist['mse'], label=\"train\")\n",
        "    plt.plot(hist['epoch'], hist['val_mse'], label=\"val\")\n",
        "    plt.legend()\n",
        "    plt.show()\n",
        "plot_history(history)"
      ]
    },
    {
      "cell_type": "code",
      "source": [
        "predictions = lstm_model.predict(val_window)\n",
        "predictions.shape"
      ],
      "metadata": {
        "colab": {
          "base_uri": "https://localhost:8080/"
        },
        "outputId": "d73e3e75-326e-4782-c9fd-23e8fa6ae67b",
        "id": "awah_hxdZUID"
      },
      "execution_count": null,
      "outputs": [
        {
          "output_type": "stream",
          "name": "stdout",
          "text": [
            "463/463 [==============================] - 34s 71ms/step\n"
          ]
        },
        {
          "output_type": "execute_result",
          "data": {
            "text/plain": [
              "(473746, 1)"
            ]
          },
          "metadata": {},
          "execution_count": 27
        }
      ]
    },
    {
      "cell_type": "code",
      "source": [
        "y_true_val = np.squeeze(y_val[14:])\n",
        "y_true_val.shape"
      ],
      "metadata": {
        "colab": {
          "base_uri": "https://localhost:8080/"
        },
        "outputId": "3fe8d9ef-aed5-4da5-fffd-efd2f87b6ecf",
        "id": "-Y3XceVhZUID"
      },
      "execution_count": null,
      "outputs": [
        {
          "output_type": "execute_result",
          "data": {
            "text/plain": [
              "(473746,)"
            ]
          },
          "metadata": {},
          "execution_count": 29
        }
      ]
    },
    {
      "cell_type": "code",
      "source": [
        "RMSE = math.sqrt(mean_squared_error(y_true_val, predictions))\n",
        "print(\"RMSE:\", RMSE)"
      ],
      "metadata": {
        "colab": {
          "base_uri": "https://localhost:8080/"
        },
        "outputId": "00490eee-8998-4fbd-9bd4-333fe8389d38",
        "id": "rNM9oQW2ZUID"
      },
      "execution_count": null,
      "outputs": [
        {
          "output_type": "stream",
          "name": "stdout",
          "text": [
            "RMSE: 0.001849163758985542\n"
          ]
        }
      ]
    },
    {
      "cell_type": "markdown",
      "source": [
        "# Model 8- LSTM3"
      ],
      "metadata": {
        "id": "hWEvl73lgHVX"
      }
    },
    {
      "cell_type": "code",
      "source": [
        "class sample_generator(keras.utils.Sequence):\n",
        "    def __init__(self, x_set, y_set, batch_size, length):\n",
        "        self.x, self.y = x_set, y_set\n",
        "        self.batch_size = batch_size\n",
        "        self.length = length\n",
        "        self.size = len(x_set)\n",
        "\n",
        "    def __len__(self):\n",
        "        return int(np.ceil(len(self.x) / float(self.batch_size)))\n",
        "\n",
        "    def __getitem__(self, idx):\n",
        "        batch_x=[]\n",
        "        batch_y=[]\n",
        "        for i in range(self.batch_size):\n",
        "            start_ind = self.batch_size*idx + i\n",
        "            end_ind = start_ind + self.length \n",
        "            if end_ind <= self.size:\n",
        "                batch_x.append(self.x[start_ind : end_ind])\n",
        "                batch_y.append(self.y[end_ind -1])\n",
        "\n",
        "        return np.array(batch_x), np.array(batch_y)"
      ],
      "metadata": {
        "id": "FVz0QU6jgHVX"
      },
      "execution_count": null,
      "outputs": []
    },
    {
      "cell_type": "code",
      "source": [
        "BATCH_SIZE=2**10\n",
        "train_window = sample_generator(X_train_scaled, y_train, length=15, batch_size=BATCH_SIZE)\n",
        "val_window = sample_generator(X_val_scaled, y_val, length=15, batch_size=BATCH_SIZE)"
      ],
      "metadata": {
        "id": "Afdt9oyfgHVX"
      },
      "execution_count": null,
      "outputs": []
    },
    {
      "cell_type": "code",
      "source": [
        "train_window[0][0].shape[0]"
      ],
      "metadata": {
        "colab": {
          "base_uri": "https://localhost:8080/"
        },
        "outputId": "665a6e90-5447-4fb9-bf5f-be73d951a4f6",
        "id": "reJ6wKwPgHVX"
      },
      "execution_count": null,
      "outputs": [
        {
          "output_type": "execute_result",
          "data": {
            "text/plain": [
              "1024"
            ]
          },
          "metadata": {},
          "execution_count": 22
        }
      ]
    },
    {
      "cell_type": "code",
      "source": [
        "from keras.layers.rnn import lstm_v1\n",
        "def build_lstm_model():\n",
        "    lstm = Sequential()\n",
        "    lstm.add(LSTM(32,return_sequences=True,input_shape=(train_window[0][0].shape[1],train_window[0][0].shape[-1])))\n",
        "    lstm.add(layers.BatchNormalization())\n",
        "    lstm.add(Dropout(0.2))\n",
        "\n",
        "    lstm.add(LSTM(16,return_sequences=True))\n",
        "    lstm.add(layers.BatchNormalization())\n",
        "    lstm.add(Dropout(0.2))\n",
        "\n",
        "    lstm.add(LSTM(16,return_sequences=False))\n",
        "    lstm.add(layers.BatchNormalization())\n",
        "    lstm.add(Dropout(0.2))\n",
        "\n",
        "    #lstm.add(Dense(128))\n",
        "    lstm.add(Dropout(0.2))\n",
        "    lstm.add(Dense(1))\n",
        "    return lstm"
      ],
      "metadata": {
        "id": "ycIdKEYlgHVY"
      },
      "execution_count": null,
      "outputs": []
    },
    {
      "cell_type": "code",
      "source": [
        "lstm_model = build_lstm_model()\n",
        "lstm_model.summary()"
      ],
      "metadata": {
        "colab": {
          "base_uri": "https://localhost:8080/"
        },
        "outputId": "5d543221-de7c-404f-f71b-ddfddb8887d6",
        "id": "-UUuFW4HgHVY"
      },
      "execution_count": null,
      "outputs": [
        {
          "output_type": "stream",
          "name": "stdout",
          "text": [
            "Model: \"sequential\"\n",
            "_________________________________________________________________\n",
            " Layer (type)                Output Shape              Param #   \n",
            "=================================================================\n",
            " lstm (LSTM)                 (None, 15, 32)            6912      \n",
            "                                                                 \n",
            " batch_normalization (BatchN  (None, 15, 32)           128       \n",
            " ormalization)                                                   \n",
            "                                                                 \n",
            " dropout (Dropout)           (None, 15, 32)            0         \n",
            "                                                                 \n",
            " lstm_1 (LSTM)               (None, 15, 16)            3136      \n",
            "                                                                 \n",
            " batch_normalization_1 (Batc  (None, 15, 16)           64        \n",
            " hNormalization)                                                 \n",
            "                                                                 \n",
            " dropout_1 (Dropout)         (None, 15, 16)            0         \n",
            "                                                                 \n",
            " lstm_2 (LSTM)               (None, 16)                2112      \n",
            "                                                                 \n",
            " batch_normalization_2 (Batc  (None, 16)               64        \n",
            " hNormalization)                                                 \n",
            "                                                                 \n",
            " dropout_2 (Dropout)         (None, 16)                0         \n",
            "                                                                 \n",
            " dropout_3 (Dropout)         (None, 16)                0         \n",
            "                                                                 \n",
            " dense (Dense)               (None, 1)                 17        \n",
            "                                                                 \n",
            "=================================================================\n",
            "Total params: 12,433\n",
            "Trainable params: 12,305\n",
            "Non-trainable params: 128\n",
            "_________________________________________________________________\n"
          ]
        }
      ]
    },
    {
      "cell_type": "code",
      "execution_count": null,
      "metadata": {
        "tags": [],
        "id": "CJyxqhEwgHVY"
      },
      "outputs": [],
      "source": [
        "optimizer = keras.optimizers.Adam(0.0005)\n",
        "lstm_model.compile(loss='mse', optimizer='adam',metrics=['mse'])"
      ]
    },
    {
      "cell_type": "code",
      "execution_count": null,
      "metadata": {
        "colab": {
          "base_uri": "https://localhost:8080/"
        },
        "outputId": "56177230-0099-4e6f-e1c5-98828a492292",
        "id": "mPONBx7UgHVY"
      },
      "outputs": [
        {
          "output_type": "stream",
          "name": "stdout",
          "text": [
            "Epoch 1/5\n",
            "1829/1829 [==============================] - 313s 167ms/step - loss: 0.1177 - mse: 0.1177 - val_loss: 1.8102e-05 - val_mse: 1.8102e-05\n",
            "Epoch 2/5\n",
            "1829/1829 [==============================] - 298s 163ms/step - loss: 1.4672e-05 - mse: 1.4672e-05 - val_loss: 2.4933e-06 - val_mse: 2.4933e-06\n",
            "Epoch 3/5\n",
            "1829/1829 [==============================] - 306s 167ms/step - loss: 4.1916e-06 - mse: 4.1916e-06 - val_loss: 2.5472e-06 - val_mse: 2.5472e-06\n"
          ]
        }
      ],
      "source": [
        "# Display training progress by printing a single dot for each completed epoch\n",
        "tf.random.set_seed(14)\n",
        "class PrintLoss(keras.callbacks.Callback):\n",
        "    def on_epoch_end(self, epoch, logs):\n",
        "        # calculate training time\n",
        "        t = time.monotonic() - self.time\n",
        "        print('| Epoch {:2} | training time {:6.2f}s | train loss {:6.2f} | validation loss {:6.2f}'\n",
        "              .format(epoch, t, logs['loss'], logs['val_loss']))\n",
        "        \n",
        "    def on_epoch_begin(self, epoch, logs):\n",
        "        if epoch == 0: self.time = time.monotonic()\n",
        "\n",
        "EPOCHS = 5\n",
        "BATCH = 1024\n",
        "\n",
        "early_stop = keras.callbacks.EarlyStopping(monitor='val_loss', patience=1)\n",
        "history = lstm_model.fit(train_window, batch_size=BATCH,\n",
        "                              epochs=EPOCHS, verbose=1, validation_data = (val_window),\n",
        "                              callbacks=[early_stop])"
      ]
    },
    {
      "cell_type": "code",
      "execution_count": null,
      "metadata": {
        "colab": {
          "base_uri": "https://localhost:8080/",
          "height": 279
        },
        "outputId": "5b821c3e-9d51-423e-d73d-7e8272c82b98",
        "id": "vdVaxhalgHVY"
      },
      "outputs": [
        {
          "output_type": "display_data",
          "data": {
            "text/plain": [
              "<Figure size 432x288 with 1 Axes>"
            ],
            "image/png": "[encoded data removed]"
          },
          "metadata": {
            "needs_background": "light"
          }
        }
      ],
      "source": [
        "def plot_history(history):\n",
        "    hist = pd.DataFrame(history.history)\n",
        "    hist['epoch'] = history.epoch\n",
        "    hist.tail()\n",
        "\n",
        "    plt.figure()\n",
        "    plt.xlabel('Epoch')\n",
        "    plt.ylabel('Accuracy')\n",
        "    plt.plot(hist['epoch'], hist['mse'], label=\"train\")\n",
        "    plt.plot(hist['epoch'], hist['val_mse'], label=\"val\")\n",
        "    plt.legend()\n",
        "    plt.show()\n",
        "plot_history(history)"
      ]
    },
    {
      "cell_type": "code",
      "source": [
        "predictions = lstm_model.predict(val_window)\n",
        "predictions.shape"
      ],
      "metadata": {
        "colab": {
          "base_uri": "https://localhost:8080/"
        },
        "outputId": "62c1b8dd-141f-458c-a033-ec1b3ca194dd",
        "id": "LEuSNQnqgHVY"
      },
      "execution_count": null,
      "outputs": [
        {
          "output_type": "stream",
          "name": "stdout",
          "text": [
            "259/259 [==============================] - 18s 64ms/step\n"
          ]
        },
        {
          "output_type": "execute_result",
          "data": {
            "text/plain": [
              "(264947, 1)"
            ]
          },
          "metadata": {},
          "execution_count": 25
        }
      ]
    },
    {
      "cell_type": "code",
      "source": [
        "y_true_val = np.squeeze(y_val[14:])\n",
        "y_true_val.shape"
      ],
      "metadata": {
        "colab": {
          "base_uri": "https://localhost:8080/"
        },
        "outputId": "a2ccf158-c9d5-4000-f925-9c260c870a61",
        "id": "PBTkEVBhgHVY"
      },
      "execution_count": null,
      "outputs": [
        {
          "output_type": "execute_result",
          "data": {
            "text/plain": [
              "(264947,)"
            ]
          },
          "metadata": {},
          "execution_count": 26
        }
      ]
    },
    {
      "cell_type": "code",
      "source": [
        "RMSE = math.sqrt(mean_squared_error(y_true_val, predictions))\n",
        "print(\"RMSE:\", RMSE)"
      ],
      "metadata": {
        "colab": {
          "base_uri": "https://localhost:8080/"
        },
        "outputId": "d52891aa-978d-426f-edca-5b3e9d56babf",
        "id": "sc6Q7fxwgHVY"
      },
      "execution_count": null,
      "outputs": [
        {
          "output_type": "stream",
          "name": "stdout",
          "text": [
            "RMSE: 0.0015959863578082628\n"
          ]
        }
      ]
    },
    {
      "cell_type": "markdown",
      "source": [],
      "metadata": {
        "id": "7v_Q5GbO4J7v"
      }
    },
    {
      "cell_type": "markdown",
      "source": [
        "# ETH"
      ],
      "metadata": {
        "id": "AlK9ks7g4K38"
      }
    },
    {
      "cell_type": "code",
      "source": [
        "plt.figure(figsize=(15,5))\n",
        "plt.plot(eth['datetime'],eth['Open'],color='blue', label='Open')\n",
        "plt.plot(eth['datetime'],eth['Close'],color='red', label='Close')\n",
        "plt.legend()\n",
        "plt.xlabel('Time')\n",
        "plt.ylabel('Ethereum')"
      ],
      "metadata": {
        "colab": {
          "base_uri": "https://localhost:8080/",
          "height": 352
        },
        "outputId": "42c772e2-8ead-49b1-e3ec-a49f0e90e982",
        "id": "cMLNjd3-4K38"
      },
      "execution_count": null,
      "outputs": [
        {
          "output_type": "execute_result",
          "data": {
            "text/plain": [
              "Text(0, 0.5, 'Ethereum')"
            ]
          },
          "metadata": {},
          "execution_count": 12
        },
        {
          "output_type": "display_data",
          "data": {
            "text/plain": [
              "<Figure size 1080x360 with 1 Axes>"
            ],
            "image/png": "[encoded data removed]"
          },
          "metadata": {
            "needs_background": "light"
          }
        }
      ]
    },
    {
      "cell_type": "code",
      "source": [
        "plt.figure(figsize=(14,8))\n",
        "plt.plot(eth['datetime'],eth['Target'],color='red', label='ETH')\n",
        "plt.legend()\n",
        "plt.xlabel('Time')\n",
        "plt.ylabel('Ethereum')"
      ],
      "metadata": {
        "colab": {
          "base_uri": "https://localhost:8080/",
          "height": 515
        },
        "outputId": "414cc62b-5a1f-4ce7-f3cc-70616aa3ded0",
        "id": "p_3YNCgk4K38"
      },
      "execution_count": null,
      "outputs": [
        {
          "output_type": "execute_result",
          "data": {
            "text/plain": [
              "Text(0, 0.5, 'Ethereum')"
            ]
          },
          "metadata": {},
          "execution_count": 13
        },
        {
          "output_type": "display_data",
          "data": {
            "text/plain": [
              "<Figure size 1008x576 with 1 Axes>"
            ],
            "image/png": "[encoded data removed]"
          },
          "metadata": {
            "needs_background": "light"
          }
        }
      ]
    },
    {
      "cell_type": "code",
      "source": [
        "eth1 = create_features(eth)"
      ],
      "metadata": {
        "id": "6Nne2N8K4K38"
      },
      "execution_count": null,
      "outputs": []
    },
    {
      "cell_type": "code",
      "source": [
        "eth2 = eth1.reset_index()"
      ],
      "metadata": {
        "id": "hz542N-b4K39"
      },
      "execution_count": null,
      "outputs": []
    },
    {
      "cell_type": "code",
      "source": [
        "eth2['Target'] = eth2['Target'].fillna(0)"
      ],
      "metadata": {
        "id": "GbsCopMu4K39"
      },
      "execution_count": null,
      "outputs": []
    },
    {
      "cell_type": "code",
      "source": [
        "X_train = eth2[eth2['datetime']< '2021-07-24 00:00:00']\n",
        "y_train = eth2[eth2['datetime']< '2021-07-24 00:00:00']['Target'].to_numpy()\n",
        "X_val = eth2[eth2['datetime']>= '2021-07-24 00:00:00']\n",
        "y_val = eth2[eth2['datetime']>= '2021-07-24 00:00:00']['Target'].to_numpy()"
      ],
      "metadata": {
        "id": "dWfZjApb4K39"
      },
      "execution_count": null,
      "outputs": []
    },
    {
      "cell_type": "code",
      "source": [
        "eth2[eth2['datetime']< '2021-07-24 00:00:00'][\"Close\"].plot(figsize=(15, 5), label='train',  title='ETH/USD train/val split')\n",
        "eth2[eth2['datetime']>= '2021-07-24 00:00:00'][\"Close\"].plot(label='val')\n",
        "plt.legend()"
      ],
      "metadata": {
        "colab": {
          "base_uri": "https://localhost:8080/",
          "height": 367
        },
        "outputId": "3fd8bc76-e6cd-4241-827e-81a2dd12ffde",
        "id": "G56-xE-W4K39"
      },
      "execution_count": null,
      "outputs": [
        {
          "output_type": "execute_result",
          "data": {
            "text/plain": [
              "<matplotlib.legend.Legend at 0x7fb3864bffa0>"
            ]
          },
          "metadata": {},
          "execution_count": 16
        },
        {
          "output_type": "display_data",
          "data": {
            "text/plain": [
              "<Figure size 1080x360 with 1 Axes>"
            ],
            "image/png": "[encoded data removed]"
          },
          "metadata": {
            "needs_background": "light"
          }
        }
      ]
    },
    {
      "cell_type": "code",
      "source": [
        "X_train = X_train.fillna(0)\n",
        "x_val = X_val.fillna(0)"
      ],
      "metadata": {
        "id": "5uGVboRp4K39"
      },
      "execution_count": null,
      "outputs": []
    },
    {
      "cell_type": "code",
      "source": [
        "X_train1 = X_train.drop(['timestamp', \"Target\",'datetime', 'Asset_ID'], axis=1).to_numpy()\n",
        "X_val1 = X_val.drop(['timestamp', \"Target\",'datetime', 'Asset_ID'], axis=1).to_numpy()"
      ],
      "metadata": {
        "id": "c4ctnMVc4K39"
      },
      "execution_count": null,
      "outputs": []
    },
    {
      "cell_type": "code",
      "source": [
        "scaler = StandardScaler()\n",
        "X_train_scaled = scaler.fit_transform(X_train1)\n",
        "X_val_scaled = scaler.transform(X_val1)"
      ],
      "metadata": {
        "id": "MwpCmryw4K3-"
      },
      "execution_count": null,
      "outputs": []
    },
    {
      "cell_type": "markdown",
      "source": [
        "# Model1 - Linear Regression"
      ],
      "metadata": {
        "id": "-SLU7c4L4K3-"
      }
    },
    {
      "cell_type": "code",
      "source": [
        "reg = LinearRegression()\n",
        "reg.fit(X_train_scaled, y_train)\n",
        "y_pred = reg.predict(X_val_scaled)"
      ],
      "metadata": {
        "id": "Ad1iwRhW4K3-"
      },
      "execution_count": null,
      "outputs": []
    },
    {
      "cell_type": "code",
      "source": [
        "RMSE = math.sqrt(mean_squared_error(y_val, y_pred))\n",
        "print(\"RMSE:\", RMSE)"
      ],
      "metadata": {
        "colab": {
          "base_uri": "https://localhost:8080/"
        },
        "outputId": "a79956e0-ce27-48c3-fb80-89c993eb9f01",
        "id": "LV1uKmft4K3-"
      },
      "execution_count": null,
      "outputs": [
        {
          "output_type": "stream",
          "name": "stdout",
          "text": [
            "RMSE: 0.0017154314851575943\n"
          ]
        }
      ]
    },
    {
      "cell_type": "markdown",
      "source": [
        "# Model2 - Light GBM"
      ],
      "metadata": {
        "id": "1nViePrE5U31"
      }
    },
    {
      "cell_type": "code",
      "source": [
        "lgb_model3 = LGBMRegressor(n_estimators = 100,\n",
        "                          max_depth = 10,\n",
        "                          learning_rate = 0.005,\n",
        "                           num_leaves = 20,\n",
        "                          bagging_fraction= 0.8,\n",
        "                           subsample = 0.8,\n",
        "                           colsample_bytree=0.7,\n",
        "                          seed = 28)\n",
        "#1234"
      ],
      "metadata": {
        "id": "xj6fQQPt5U33"
      },
      "execution_count": null,
      "outputs": []
    },
    {
      "cell_type": "code",
      "source": [
        "lgb_model3.fit(X_train_scaled, y_train)\n",
        "y_pred2 = lgb_model3.predict(X_val_scaled)"
      ],
      "metadata": {
        "id": "QtPJIUuv5U33"
      },
      "execution_count": null,
      "outputs": []
    },
    {
      "cell_type": "code",
      "source": [
        "MSE = mean_squared_error(y_val, y_pred2)\n",
        "RMSE = math.sqrt(MSE)\n",
        "print(\"Root Mean Square Error:\\n\")\n",
        "print(RMSE)"
      ],
      "metadata": {
        "colab": {
          "base_uri": "https://localhost:8080/"
        },
        "outputId": "6532b961-b8c4-4b1a-bb70-324b22e0922e",
        "id": "Nu_wxY-65U33"
      },
      "execution_count": null,
      "outputs": [
        {
          "output_type": "stream",
          "name": "stdout",
          "text": [
            "Root Mean Square Error:\n",
            "\n",
            "0.0017135264206134726\n"
          ]
        }
      ]
    },
    {
      "cell_type": "markdown",
      "source": [
        "# Model 6- LSTM1 - BEST"
      ],
      "metadata": {
        "id": "loM5Vmn45-mH"
      }
    },
    {
      "cell_type": "code",
      "source": [
        "class sample_generator(keras.utils.Sequence):\n",
        "    def __init__(self, x_set, y_set, batch_size, length):\n",
        "        self.x, self.y = x_set, y_set\n",
        "        self.batch_size = batch_size\n",
        "        self.length = length\n",
        "        self.size = len(x_set)\n",
        "\n",
        "    def __len__(self):\n",
        "        return int(np.ceil(len(self.x) / float(self.batch_size)))\n",
        "\n",
        "    def __getitem__(self, idx):\n",
        "        batch_x=[]\n",
        "        batch_y=[]\n",
        "        for i in range(self.batch_size):\n",
        "            start_ind = self.batch_size*idx + i\n",
        "            end_ind = start_ind + self.length \n",
        "            if end_ind <= self.size:\n",
        "                batch_x.append(self.x[start_ind : end_ind])\n",
        "                batch_y.append(self.y[end_ind -1])\n",
        "\n",
        "        return np.array(batch_x), np.array(batch_y)"
      ],
      "metadata": {
        "id": "4nUyNXN35-mI"
      },
      "execution_count": null,
      "outputs": []
    },
    {
      "cell_type": "code",
      "source": [
        "BATCH_SIZE=2**10\n",
        "train_window = sample_generator(X_train_scaled, y_train, length=15, batch_size=BATCH_SIZE)\n",
        "val_window = sample_generator(X_val_scaled, y_val, length=15, batch_size=BATCH_SIZE)"
      ],
      "metadata": {
        "id": "1zY3lckP5-mI"
      },
      "execution_count": null,
      "outputs": []
    },
    {
      "cell_type": "code",
      "source": [
        "train_window[0][0].shape[0]"
      ],
      "metadata": {
        "colab": {
          "base_uri": "https://localhost:8080/"
        },
        "outputId": "665a6e90-5447-4fb9-bf5f-be73d951a4f6",
        "id": "HeqMa4Zt5-mI"
      },
      "execution_count": null,
      "outputs": [
        {
          "output_type": "execute_result",
          "data": {
            "text/plain": [
              "1024"
            ]
          },
          "metadata": {},
          "execution_count": 22
        }
      ]
    },
    {
      "cell_type": "code",
      "source": [
        "from keras.layers.rnn import lstm_v1\n",
        "def build_lstm_model():\n",
        "    lstm = Sequential()\n",
        "    lstm.add(LSTM(32,return_sequences=True,input_shape=(train_window[0][0].shape[1],train_window[0][0].shape[-1])))\n",
        "    lstm.add(layers.BatchNormalization())\n",
        "    lstm.add(Dropout(0.2))\n",
        "\n",
        "    lstm.add(LSTM(32,return_sequences=False))\n",
        "    lstm.add(layers.BatchNormalization())\n",
        "    lstm.add(Dropout(0.2))\n",
        "\n",
        "    #lstm.add(Dense(128))\n",
        "    lstm.add(Dropout(0.2))\n",
        "    lstm.add(Dense(1))\n",
        "    return lstm"
      ],
      "metadata": {
        "id": "TOdkuy7T5-mI"
      },
      "execution_count": null,
      "outputs": []
    },
    {
      "cell_type": "code",
      "source": [
        "lstm_model = build_lstm_model()\n",
        "lstm_model.summary()"
      ],
      "metadata": {
        "colab": {
          "base_uri": "https://localhost:8080/"
        },
        "outputId": "dde7e7a2-3e34-46d8-b21c-67112df57267",
        "id": "SkCqYytN5-mI"
      },
      "execution_count": null,
      "outputs": [
        {
          "output_type": "stream",
          "name": "stdout",
          "text": [
            "Model: \"sequential\"\n",
            "_________________________________________________________________\n",
            " Layer (type)                Output Shape              Param #   \n",
            "=================================================================\n",
            " lstm (LSTM)                 (None, 15, 32)            6912      \n",
            "                                                                 \n",
            " batch_normalization (BatchN  (None, 15, 32)           128       \n",
            " ormalization)                                                   \n",
            "                                                                 \n",
            " dropout (Dropout)           (None, 15, 32)            0         \n",
            "                                                                 \n",
            " lstm_1 (LSTM)               (None, 32)                8320      \n",
            "                                                                 \n",
            " batch_normalization_1 (Batc  (None, 32)               128       \n",
            " hNormalization)                                                 \n",
            "                                                                 \n",
            " dropout_1 (Dropout)         (None, 32)                0         \n",
            "                                                                 \n",
            " dropout_2 (Dropout)         (None, 32)                0         \n",
            "                                                                 \n",
            " dense (Dense)               (None, 1)                 33        \n",
            "                                                                 \n",
            "=================================================================\n",
            "Total params: 15,521\n",
            "Trainable params: 15,393\n",
            "Non-trainable params: 128\n",
            "_________________________________________________________________\n"
          ]
        }
      ]
    },
    {
      "cell_type": "code",
      "execution_count": null,
      "metadata": {
        "tags": [],
        "id": "OTn2yis15-mJ"
      },
      "outputs": [],
      "source": [
        "optimizer = keras.optimizers.Adam(0.0005)\n",
        "lstm_model.compile(loss='mse', optimizer='adam',metrics=['mse'])"
      ]
    },
    {
      "cell_type": "code",
      "execution_count": null,
      "metadata": {
        "colab": {
          "base_uri": "https://localhost:8080/"
        },
        "outputId": "53f05b2a-69af-4f26-d96a-2c3f45b2632a",
        "id": "EELajQaI5-mJ"
      },
      "outputs": [
        {
          "output_type": "stream",
          "name": "stdout",
          "text": [
            "Epoch 1/5\n",
            "1829/1829 [==============================] - 307s 164ms/step - loss: 0.1538 - mse: 0.1538 - val_loss: 4.6684e-06 - val_mse: 4.6684e-06\n",
            "Epoch 2/5\n",
            "1829/1829 [==============================] - 293s 160ms/step - loss: 6.4865e-06 - mse: 6.4865e-06 - val_loss: 3.0111e-06 - val_mse: 3.0111e-06\n",
            "Epoch 3/5\n",
            "1829/1829 [==============================] - 295s 161ms/step - loss: 6.4717e-06 - mse: 6.4717e-06 - val_loss: 3.0250e-06 - val_mse: 3.0250e-06\n"
          ]
        }
      ],
      "source": [
        "# Display training progress by printing a single dot for each completed epoch\n",
        "tf.random.set_seed(14)\n",
        "class PrintLoss(keras.callbacks.Callback):\n",
        "    def on_epoch_end(self, epoch, logs):\n",
        "        # calculate training time\n",
        "        t = time.monotonic() - self.time\n",
        "        print('| Epoch {:2} | training time {:6.2f}s | train loss {:6.2f} | validation loss {:6.2f}'\n",
        "              .format(epoch, t, logs['loss'], logs['val_loss']))\n",
        "        \n",
        "    def on_epoch_begin(self, epoch, logs):\n",
        "        if epoch == 0: self.time = time.monotonic()\n",
        "\n",
        "EPOCHS = 5\n",
        "BATCH = 1024\n",
        "\n",
        "early_stop = keras.callbacks.EarlyStopping(monitor='val_loss', patience=1)\n",
        "history = lstm_model.fit(train_window, batch_size=BATCH,\n",
        "                              epochs=EPOCHS, verbose=1, validation_data = (val_window),\n",
        "                              callbacks=[early_stop])"
      ]
    },
    {
      "cell_type": "code",
      "execution_count": null,
      "metadata": {
        "colab": {
          "base_uri": "https://localhost:8080/",
          "height": 281
        },
        "outputId": "6858193a-62bc-412c-86b7-c834fed9a199",
        "id": "4NIWUspZ5-mJ"
      },
      "outputs": [
        {
          "output_type": "display_data",
          "data": {
            "text/plain": [
              "<Figure size 432x288 with 1 Axes>"
            ],
            "image/png": "[encoded data removed]"
          },
          "metadata": {
            "needs_background": "light"
          }
        }
      ],
      "source": [
        "def plot_history(history):\n",
        "    hist = pd.DataFrame(history.history)\n",
        "    hist['epoch'] = history.epoch\n",
        "    hist.tail()\n",
        "\n",
        "    plt.figure()\n",
        "    plt.xlabel('Epoch')\n",
        "    plt.ylabel('Accuracy')\n",
        "    plt.plot(hist['epoch'], hist['mse'], label=\"train\")\n",
        "    plt.plot(hist['epoch'], hist['val_mse'], label=\"val\")\n",
        "    plt.legend()\n",
        "    plt.show()\n",
        "plot_history(history)"
      ]
    },
    {
      "cell_type": "code",
      "source": [
        "predictions = lstm_model.predict(val_window)\n",
        "predictions.shape"
      ],
      "metadata": {
        "colab": {
          "base_uri": "https://localhost:8080/"
        },
        "outputId": "8c6a0d51-b2e4-4f3c-e161-fe230f3360dc",
        "id": "3_3CfsLg5-mJ"
      },
      "execution_count": null,
      "outputs": [
        {
          "output_type": "stream",
          "name": "stdout",
          "text": [
            "259/259 [==============================] - 20s 72ms/step\n"
          ]
        },
        {
          "output_type": "execute_result",
          "data": {
            "text/plain": [
              "(264947, 1)"
            ]
          },
          "metadata": {},
          "execution_count": 27
        }
      ]
    },
    {
      "cell_type": "code",
      "source": [
        "y_true_val = np.squeeze(y_val[14:])\n",
        "y_true_val.shape"
      ],
      "metadata": {
        "colab": {
          "base_uri": "https://localhost:8080/"
        },
        "outputId": "102b2911-dab7-47a7-b877-fe1863a5593a",
        "id": "N-3zZZzw5-mJ"
      },
      "execution_count": null,
      "outputs": [
        {
          "output_type": "execute_result",
          "data": {
            "text/plain": [
              "(264947,)"
            ]
          },
          "metadata": {},
          "execution_count": 28
        }
      ]
    },
    {
      "cell_type": "code",
      "source": [
        "RMSE = math.sqrt(mean_squared_error(y_true_val, predictions))\n",
        "print(\"RMSE:\", RMSE)"
      ],
      "metadata": {
        "colab": {
          "base_uri": "https://localhost:8080/"
        },
        "outputId": "2c56c546-a4fe-49a8-c08f-0b3e01dde036",
        "id": "Ashi1O4Y5-mJ"
      },
      "execution_count": null,
      "outputs": [
        {
          "output_type": "stream",
          "name": "stdout",
          "text": [
            "RMSE: 0.0017392644521140874\n"
          ]
        }
      ]
    },
    {
      "cell_type": "markdown",
      "source": [
        "# Model 3 - Exponential Smoothing"
      ],
      "metadata": {
        "id": "G0QG9IzgIqOd"
      }
    },
    {
      "cell_type": "code",
      "source": [
        "eth_ts = eth2[['datetime','Target']]"
      ],
      "metadata": {
        "id": "sY0Lg2koIqOe"
      },
      "execution_count": null,
      "outputs": []
    },
    {
      "cell_type": "code",
      "source": [
        "eth_train_ts = eth_ts[eth_ts['datetime']< '2021-07-24 00:00:00']\n",
        "eth_val_ts = eth_ts[eth_ts['datetime']>= '2021-07-24 00:00:00']"
      ],
      "metadata": {
        "id": "A8WKkUcNIqOe"
      },
      "execution_count": null,
      "outputs": []
    },
    {
      "cell_type": "code",
      "source": [
        "eth_train_ts = eth_train_ts.set_index('datetime')\n",
        "eth_val_ts = eth_val_ts.set_index('datetime')"
      ],
      "metadata": {
        "id": "AtDxKydsIqOe"
      },
      "execution_count": null,
      "outputs": []
    },
    {
      "cell_type": "code",
      "source": [
        "ses = SimpleExpSmoothing(np.asarray(eth_train_ts['Target']))\n",
        "model1 = ses.fit(smoothing_level = 0.2, optimized = False)\n",
        "model2 = ses.fit(smoothing_level = 0.5, optimized = False)\n",
        "pred1 = model1.forecast(264961)\n",
        "pred2 = model2.forecast(264961)"
      ],
      "metadata": {
        "colab": {
          "base_uri": "https://localhost:8080/"
        },
        "outputId": "576c29f3-c0c7-43fa-fcc2-2a1ec95dfbc4",
        "id": "JyMaw2IeIqOe"
      },
      "execution_count": null,
      "outputs": [
        {
          "output_type": "stream",
          "name": "stderr",
          "text": [
            "/usr/local/lib/python3.8/dist-packages/statsmodels/tsa/holtwinters/model.py:427: FutureWarning: After 0.13 initialization must be handled at model creation\n",
            "  warnings.warn(\n"
          ]
        }
      ]
    },
    {
      "cell_type": "code",
      "source": [
        "fig, ax = plt.subplots(figsize=(12, 6))\n",
        "ax.plot(eth_train_ts.index, eth_train_ts.values, label ='Train')\n",
        "ax.plot(eth_val_ts.index, eth_val_ts.values, color=\"gray\", label=\"Validation\")\n",
        "for p, f, c in zip((pred1, pred2),(model1,model2),('#ff7823','#3c763d')):\n",
        "    ax.plot(eth_train_ts.index, f.fittedvalues, color=c)\n",
        "    ax.plot(eth_val_ts.index, p, label=\"alpha=\"+str(f.params['smoothing_level']), color=c)\n",
        "plt.title(\"Simple Exponential Smoothing\")    \n",
        "plt.legend();"
      ],
      "metadata": {
        "colab": {
          "base_uri": "https://localhost:8080/",
          "height": 390
        },
        "outputId": "910b322a-27ab-4d7b-a624-e86c32c012d2",
        "id": "IqV9-DU8IqOf"
      },
      "execution_count": null,
      "outputs": [
        {
          "output_type": "display_data",
          "data": {
            "text/plain": [
              "<Figure size 864x432 with 1 Axes>"
            ],
            "image/png": "[encoded data removed]"
          },
          "metadata": {
            "needs_background": "light"
          }
        }
      ]
    },
    {
      "cell_type": "code",
      "source": [
        "MSE1 = mean_squared_error(np.asarray(eth_val_ts.values), pred1)\n",
        "RMSE1 = math.sqrt(MSE1)\n",
        "MSE2 = mean_squared_error(np.asarray(eth_val_ts.values), pred2)\n",
        "RMSE2 = math.sqrt(MSE2)\n",
        "print(\"RMSE1:\", RMSE1)\n",
        "print(\"RMSE2:\", RMSE2)"
      ],
      "metadata": {
        "colab": {
          "base_uri": "https://localhost:8080/"
        },
        "outputId": "17fab7ce-41ad-47a5-952a-7e1059b76c2f",
        "id": "Pe01OAiOIqOf"
      },
      "execution_count": null,
      "outputs": [
        {
          "output_type": "stream",
          "name": "stdout",
          "text": [
            "RMSE1: 0.0017218209764413455\n",
            "RMSE2: 0.0018406833271575052\n"
          ]
        }
      ]
    }
  ]
}